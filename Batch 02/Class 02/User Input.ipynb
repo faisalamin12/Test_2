{
 "cells": [
  {
   "cell_type": "code",
   "execution_count": 1,
   "id": "7e69346e",
   "metadata": {},
   "outputs": [],
   "source": [
    "a = 23"
   ]
  },
  {
   "cell_type": "code",
   "execution_count": 3,
   "id": "c9167e26",
   "metadata": {},
   "outputs": [
    {
     "name": "stdout",
     "output_type": "stream",
     "text": [
      "23\n"
     ]
    }
   ],
   "source": [
    "print(a)"
   ]
  },
  {
   "cell_type": "code",
   "execution_count": 4,
   "id": "fd391c55",
   "metadata": {},
   "outputs": [],
   "source": [
    "a = 4"
   ]
  },
  {
   "cell_type": "code",
   "execution_count": 5,
   "id": "2b51d64b",
   "metadata": {},
   "outputs": [
    {
     "name": "stdout",
     "output_type": "stream",
     "text": [
      "4\n"
     ]
    }
   ],
   "source": [
    "print(a)"
   ]
  },
  {
   "cell_type": "code",
   "execution_count": null,
   "id": "1812f979",
   "metadata": {},
   "outputs": [],
   "source": []
  },
  {
   "cell_type": "code",
   "execution_count": 7,
   "id": "6bd4c6e8",
   "metadata": {},
   "outputs": [
    {
     "name": "stdout",
     "output_type": "stream",
     "text": [
      "without swaping: 4 7\n",
      "with swaping 7 4\n"
     ]
    }
   ],
   "source": [
    "a = 4\n",
    "b = 7\n",
    "\n",
    "print(\"without swaping:\" , a , b)\n",
    "\n",
    "temp = a\n",
    "\n",
    "a = b\n",
    "\n",
    "b = temp\n",
    "\n",
    "print(\"with swaping\" , a , b)"
   ]
  },
  {
   "cell_type": "code",
   "execution_count": 8,
   "id": "2f670d75",
   "metadata": {},
   "outputs": [
    {
     "name": "stdout",
     "output_type": "stream",
     "text": [
      "7 4\n"
     ]
    }
   ],
   "source": [
    "a = 4\n",
    "b = 7\n",
    "\n",
    "\n",
    "a,b =  b , a\n",
    "\n",
    "print(a , b)"
   ]
  },
  {
   "cell_type": "code",
   "execution_count": 10,
   "id": "6f4c650c",
   "metadata": {},
   "outputs": [
    {
     "name": "stdout",
     "output_type": "stream",
     "text": [
      "hello world hello world hello world hello world hello world hello world hello world hello world hello world hello world \n"
     ]
    }
   ],
   "source": [
    "print(\"hello world \"*10)"
   ]
  },
  {
   "cell_type": "code",
   "execution_count": 11,
   "id": "1917c9b2",
   "metadata": {},
   "outputs": [
    {
     "name": "stdout",
     "output_type": "stream",
     "text": [
      "22\n"
     ]
    }
   ],
   "source": [
    "print(\"2\" + \"2\")"
   ]
  },
  {
   "cell_type": "code",
   "execution_count": 14,
   "id": "bac419cc",
   "metadata": {},
   "outputs": [
    {
     "name": "stdout",
     "output_type": "stream",
     "text": [
      "Enter a Number: 3\n"
     ]
    }
   ],
   "source": [
    "a = input(\"Enter a Number: \")"
   ]
  },
  {
   "cell_type": "code",
   "execution_count": 15,
   "id": "eff3ffcf",
   "metadata": {},
   "outputs": [
    {
     "name": "stdout",
     "output_type": "stream",
     "text": [
      "0.10638297872340426\n"
     ]
    }
   ],
   "source": [
    "a = 5\n",
    "b = 47\n",
    "\n",
    "print(a/b)"
   ]
  },
  {
   "cell_type": "code",
   "execution_count": 20,
   "id": "3434b551",
   "metadata": {},
   "outputs": [
    {
     "name": "stdout",
     "output_type": "stream",
     "text": [
      "710542735760100185871124267578125\n"
     ]
    }
   ],
   "source": [
    "print(a**b)"
   ]
  },
  {
   "cell_type": "code",
   "execution_count": null,
   "id": "1e995342",
   "metadata": {},
   "outputs": [],
   "source": []
  }
 ],
 "metadata": {
  "kernelspec": {
   "display_name": "Python 3 (ipykernel)",
   "language": "python",
   "name": "python3"
  },
  "language_info": {
   "codemirror_mode": {
    "name": "ipython",
    "version": 3
   },
   "file_extension": ".py",
   "mimetype": "text/x-python",
   "name": "python",
   "nbconvert_exporter": "python",
   "pygments_lexer": "ipython3",
   "version": "3.11.5"
  }
 },
 "nbformat": 4,
 "nbformat_minor": 5
}
