{
 "cells": [
  {
   "cell_type": "markdown",
   "metadata": {
    "id": "1cc_T1X8fh6k"
   },
   "source": [
    "# Comments, Escape sequence & Print in Python\n",
    "\n",
    "## Python Comments\n",
    "\n",
    "A comment is a part of the coding file that the programmer does not want to execute, rather the programmer uses it to either explain a block of code or to avoid the execution of a specific part of code while testing.\n",
    "\n",
    "\n",
    "### Single-Line Comments:\n",
    "To write a comment just add a ‘#’ at the start of the line."
   ]
  },
  {
   "cell_type": "code",
   "execution_count": 1,
   "metadata": {
    "colab": {
     "base_uri": "https://localhost:8080/"
    },
    "id": "JFTwudbUf12w",
    "outputId": "d85a2a4a-acf4-4577-f0c3-f9b259cd41b1"
   },
   "outputs": [
    {
     "name": "stdout",
     "output_type": "stream",
     "text": [
      "This is a print statement.\n"
     ]
    }
   ],
   "source": [
    "# This is a 'Single-Line Comment'\n",
    "print(\"This is a print statement.\")"
   ]
  },
  {
   "cell_type": "code",
   "execution_count": null,
   "metadata": {
    "colab": {
     "base_uri": "https://localhost:8080/"
    },
    "id": "sJ4-9IZpgFF5",
    "outputId": "96d20513-972a-4399-9536-96bbc8407b4b"
   },
   "outputs": [
    {
     "name": "stdout",
     "output_type": "stream",
     "text": [
      "Hello World !!!\n"
     ]
    }
   ],
   "source": [
    "print(\"Hello World !!!\") #Printing Hello World "
   ]
  },
  {
   "cell_type": "code",
   "execution_count": null,
   "metadata": {
    "colab": {
     "base_uri": "https://localhost:8080/"
    },
    "id": "jS11obl9gPBH",
    "outputId": "1dceed66-0daf-42b2-8923-3a8a0c836ee7"
   },
   "outputs": [
    {
     "name": "stdout",
     "output_type": "stream",
     "text": [
      "Python Program\n"
     ]
    }
   ],
   "source": [
    "print(\"Python Program\")\n",
    "#print(\"Python Program\")"
   ]
  },
  {
   "cell_type": "code",
   "execution_count": null,
   "metadata": {
    "id": "76d7DGpkgZYF"
   },
   "outputs": [],
   "source": []
  },
  {
   "cell_type": "markdown",
   "metadata": {
    "id": "MmvMR5qtgb9L"
   },
   "source": [
    "### Multi-Line Comments:\n",
    "To write multi-line comments you can use ‘#’ at each line or you can use the multiline string.\n",
    "\n",
    "**Example 01:** Use of Single Line Comments"
   ]
  },
  {
   "cell_type": "code",
   "execution_count": null,
   "metadata": {
    "colab": {
     "base_uri": "https://localhost:8080/"
    },
    "id": "3-gigXJ2gvo9",
    "outputId": "543456cf-fd59-452f-d533-0bbe94f3a52c"
   },
   "outputs": [
    {
     "name": "stdout",
     "output_type": "stream",
     "text": [
      "age is greater than 5.\n"
     ]
    }
   ],
   "source": [
    "#It will execute a block of code if a specified condition is true.\n",
    "#If the condition is false then it will execute another block of code.\n",
    "age = 7\n",
    "if (age > 5):\n",
    "    print(\"age is greater than 5.\")\n",
    "else:\n",
    "    print(\"age is not greater than 5.\")"
   ]
  },
  {
   "cell_type": "markdown",
   "metadata": {
    "id": "8XNfCXRNhaos"
   },
   "source": [
    "**Example 02** Use of Multi-line Comments"
   ]
  },
  {
   "cell_type": "code",
   "execution_count": null,
   "metadata": {
    "colab": {
     "base_uri": "https://localhost:8080/"
    },
    "id": "ViwnfRBYg2vI",
    "outputId": "79680f48-65bd-4d98-a7a6-20d21dfba16d"
   },
   "outputs": [
    {
     "name": "stdout",
     "output_type": "stream",
     "text": [
      "age is greater than 5.\n"
     ]
    }
   ],
   "source": [
    "\"\"\"This is an if-else statement.\n",
    "It will execute a block of code if a specified condition is true.\n",
    "If the condition is false then it will execute another block of code.\"\"\"\n",
    "age = 7\n",
    "if (age > 5):\n",
    "    print(\"age is greater than 5.\")\n",
    "else:\n",
    "    print(\"age is not greater than 5.\")"
   ]
  },
  {
   "cell_type": "markdown",
   "metadata": {
    "id": "lfrZIh0ahxww"
   },
   "source": [
    "## Escape Sequence Characters\n",
    "\n",
    "To insert characters that cannot be directly used in a string, we use an escape sequence character.\n",
    "\n",
    "An escape sequence character is a backslash \\ followed by the character you want to insert.\n",
    "\n",
    "An example of a character that cannot be directly used in a string is a double quote inside a string that is surrounded by double quotes:"
   ]
  },
  {
   "cell_type": "code",
   "execution_count": 7,
   "metadata": {
    "colab": {
     "base_uri": "https://localhost:8080/"
    },
    "id": "_2qc1fg7h4AP",
    "outputId": "e0b9c6d9-a517-4a57-d5fb-baf12f0e3a3e"
   },
   "outputs": [
    {
     "name": "stdout",
     "output_type": "stream",
     "text": [
      "This will \"execute\" \n"
     ]
    }
   ],
   "source": [
    "\n",
    "print(\"This will execute \\\" \")"
   ]
  },
  {
   "cell_type": "code",
   "execution_count": 10,
   "metadata": {
    "id": "ctnYVFxqh7bF"
   },
   "outputs": [
    {
     "name": "stdout",
     "output_type": "stream",
     "text": [
      "Python is a \t Programming Language\n"
     ]
    }
   ],
   "source": [
    "print(\"Python is a \\t Programming Language\")"
   ]
  },
  {
   "cell_type": "code",
   "execution_count": null,
   "metadata": {},
   "outputs": [],
   "source": []
  }
 ],
 "metadata": {
  "colab": {
   "provenance": []
  },
  "kernelspec": {
   "display_name": "Python 3 (ipykernel)",
   "language": "python",
   "name": "python3"
  },
  "language_info": {
   "codemirror_mode": {
    "name": "ipython",
    "version": 3
   },
   "file_extension": ".py",
   "mimetype": "text/x-python",
   "name": "python",
   "nbconvert_exporter": "python",
   "pygments_lexer": "ipython3",
   "version": "3.11.5"
  }
 },
 "nbformat": 4,
 "nbformat_minor": 1
}
