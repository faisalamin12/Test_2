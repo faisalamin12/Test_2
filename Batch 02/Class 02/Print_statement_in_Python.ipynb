{
 "cells": [
  {
   "cell_type": "markdown",
   "metadata": {
    "id": "j1CDBAW6bpHY"
   },
   "source": [
    "# Print Statement\n",
    "\n",
    "The print() function prints the specified message to the screen, or other standard output device.\n",
    "\n",
    "The message can be a string, or any other object, the object will be converted into a string before written to the screen.\n",
    "\n"
   ]
  },
  {
   "cell_type": "markdown",
   "metadata": {
    "id": "x1Ys9a1YcEm3"
   },
   "source": [
    "# Syntax\n",
    "\n",
    "\n",
    "\n",
    "```\n",
    "print(object(s), sep=separator, end=end, file=file, flush=flush)\n",
    "```"
   ]
  },
  {
   "cell_type": "code",
   "execution_count": 16,
   "metadata": {
    "colab": {
     "base_uri": "https://localhost:8080/"
    },
    "id": "KkNPmzuLcSqH",
    "outputId": "5ea04c92-390c-4640-d309-9fcbaf8542e8"
   },
   "outputs": [
    {
     "name": "stdout",
     "output_type": "stream",
     "text": [
      "4\n"
     ]
    }
   ],
   "source": []
  },
  {
   "cell_type": "markdown",
   "metadata": {
    "id": "UOvoxc_Dc6VA"
   },
   "source": [
    "### Print more than one object:"
   ]
  },
  {
   "cell_type": "code",
   "execution_count": 2,
   "metadata": {
    "colab": {
     "base_uri": "https://localhost:8080/"
    },
    "id": "Efd1vL78clPO",
    "outputId": "089c16be-bfcc-4cb5-bf14-b45cfb859484"
   },
   "outputs": [
    {
     "name": "stdout",
     "output_type": "stream",
     "text": [
      "Hello how are you?\n"
     ]
    }
   ],
   "source": [
    "print(\"Hello\", \"how are you?\")"
   ]
  },
  {
   "cell_type": "markdown",
   "metadata": {
    "id": "v5xalzK_c_yP"
   },
   "source": [
    "### Print two messages, and specify the separator:"
   ]
  },
  {
   "cell_type": "code",
   "execution_count": 3,
   "metadata": {
    "colab": {
     "base_uri": "https://localhost:8080/"
    },
    "id": "v_TyiK3_cvZJ",
    "outputId": "96a519f1-73e7-45f2-f17d-e7c4abf12b18"
   },
   "outputs": [
    {
     "name": "stdout",
     "output_type": "stream",
     "text": [
      "Hello///World\n"
     ]
    }
   ],
   "source": [
    "print(\"Hello\" , \"World\" , sep = \"///\")"
   ]
  },
  {
   "cell_type": "markdown",
   "metadata": {
    "id": "UqIHjw55dd74"
   },
   "source": [
    "### Print Messages and specify end Parameter"
   ]
  },
  {
   "cell_type": "code",
   "execution_count": 4,
   "metadata": {
    "colab": {
     "base_uri": "https://localhost:8080/"
    },
    "id": "Q_3RjdzSdVBp",
    "outputId": "a3394289-1e49-468e-ba35-1bc3fbb65a96"
   },
   "outputs": [
    {
     "name": "stdout",
     "output_type": "stream",
     "text": [
      "Hello?Python\n"
     ]
    }
   ],
   "source": [
    "print(\"Hello\" ,  end = \"?\")\n",
    "print(\"Python\")"
   ]
  },
  {
   "cell_type": "markdown",
   "metadata": {
    "id": "5TTQk_cdeAHo"
   },
   "source": [
    "### More about Print Statement\n",
    "\n",
    "1. object(s): Any object, and as many as you like. Will be converted to string before printed\n",
    "\n",
    "2. sep='separator': Specify how to separate the objects, if there is more than one. Default is ' '\n",
    "\n",
    "3. end='end': Specify what to print at the end. Default is '\\n' (line feed)\n",
    "\n",
    "4. file: An object with a write method. Default is sys.stdout\n",
    "\n",
    "\n",
    "Parameters 2 to 4 are optional\n"
   ]
  },
  {
   "cell_type": "code",
   "execution_count": null,
   "metadata": {
    "id": "LvYIkUY4d5Nf"
   },
   "outputs": [],
   "source": []
  }
 ],
 "metadata": {
  "colab": {
   "provenance": []
  },
  "kernelspec": {
   "display_name": "Python 3 (ipykernel)",
   "language": "python",
   "name": "python3"
  },
  "language_info": {
   "codemirror_mode": {
    "name": "ipython",
    "version": 3
   },
   "file_extension": ".py",
   "mimetype": "text/x-python",
   "name": "python",
   "nbconvert_exporter": "python",
   "pygments_lexer": "ipython3",
   "version": "3.11.5"
  }
 },
 "nbformat": 4,
 "nbformat_minor": 1
}
