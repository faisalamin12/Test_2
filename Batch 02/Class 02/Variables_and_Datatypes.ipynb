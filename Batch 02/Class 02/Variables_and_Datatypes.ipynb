{
  "nbformat": 4,
  "nbformat_minor": 0,
  "metadata": {
    "colab": {
      "provenance": []
    },
    "kernelspec": {
      "name": "python3",
      "display_name": "Python 3"
    },
    "language_info": {
      "name": "python"
    }
  },
  "cells": [
    {
      "cell_type": "markdown",
      "source": [
        "\n",
        "#Variables and Datatypes\n",
        "\n",
        "### What is a variable?\n",
        "Variable is like a container that holds data. Very similar to how our containers in kitchen holds sugar, salt etc Creating a variable is like creating a placeholder in memory and assigning it some value. In Python its as easy as writing:"
      ],
      "metadata": {
        "id": "HQsbtX1Eqb8b"
      }
    },
    {
      "cell_type": "code",
      "source": [
        "a = 1\n",
        "b = True\n",
        "c = \"Hello\"\n",
        "d = None"
      ],
      "metadata": {
        "id": "vJrRUfhOqpQ2"
      },
      "execution_count": 1,
      "outputs": []
    },
    {
      "cell_type": "markdown",
      "source": [
        "These are four variables of different data types.\n",
        "\n",
        "\n",
        "### What is a Data Type?\n",
        "Data type specifies the type of value a variable holds. This is required in programming to do various operations without causing an error.\n",
        "In python, we can print the type of any operator using type function:"
      ],
      "metadata": {
        "id": "DbXA0TGcrCtZ"
      }
    },
    {
      "cell_type": "code",
      "source": [
        "a = 1\n",
        "print(type(a))\n",
        "b = \"1\"\n",
        "print(type(b))"
      ],
      "metadata": {
        "colab": {
          "base_uri": "https://localhost:8080/"
        },
        "id": "nMvCbE9NrGUD",
        "outputId": "208acf26-91f2-4947-8b24-5d469b8ae78c"
      },
      "execution_count": 2,
      "outputs": [
        {
          "output_type": "stream",
          "name": "stdout",
          "text": [
            "<class 'int'>\n",
            "<class 'str'>\n"
          ]
        }
      ]
    },
    {
      "cell_type": "code",
      "source": [],
      "metadata": {
        "id": "3Nsg5Jf0rQP-"
      },
      "execution_count": null,
      "outputs": []
    },
    {
      "cell_type": "markdown",
      "source": [
        "By default, python provides the following built-in data types:\n",
        "\n",
        "1. ### Numeric data: int, float, complex\n",
        "####int: 3, -8, 0\n",
        "####float: 7.349, -9.0, 0.0000001\n",
        "####complex: 6 + 2i\n",
        "2. ### Text data: str\n",
        "####str: \"Hello World!!!\", \"Python Programming\"\n",
        "\n",
        "3. ### Boolean data:\n",
        "#### Boolean data consists of values True or False.\n",
        "\n",
        "4. #### Sequenced data: list, tuple\n",
        "#### list: A list is an ordered collection of data with elements separated by a comma and enclosed within square brackets. Lists are mutable and can be modified after creation."
      ],
      "metadata": {
        "id": "vzV8eS1er-1R"
      }
    },
    {
      "cell_type": "code",
      "source": [
        "list1 = [8, 2.3, [-4, 5], [\"apple\", \"banana\"]]\n",
        "print(list1)"
      ],
      "metadata": {
        "colab": {
          "base_uri": "https://localhost:8080/"
        },
        "id": "yLWHxqeosg87",
        "outputId": "a395ded0-1f7f-469c-8515-87b5a41b8483"
      },
      "execution_count": 3,
      "outputs": [
        {
          "output_type": "stream",
          "name": "stdout",
          "text": [
            "[8, 2.3, [-4, 5], ['apple', 'banana']]\n"
          ]
        }
      ]
    },
    {
      "cell_type": "markdown",
      "source": [
        "####Tuple:\n",
        "A tuple is an ordered collection of data with elements separated by a comma and enclosed within parentheses. Tuples are immutable and can not be modified after creation.\n",
        "\n",
        "Example:"
      ],
      "metadata": {
        "id": "_ZNRtQ-BszYS"
      }
    },
    {
      "cell_type": "code",
      "source": [
        "tuple1 = ((\"parrot\", \"sparrow\"), (\"Lion\", \"Tiger\"))\n",
        "print(tuple1)"
      ],
      "metadata": {
        "colab": {
          "base_uri": "https://localhost:8080/"
        },
        "id": "m8E1JqN8s8fb",
        "outputId": "ac3fa4a8-2618-4bae-c22a-7ab1179bc012"
      },
      "execution_count": 4,
      "outputs": [
        {
          "output_type": "stream",
          "name": "stdout",
          "text": [
            "(('parrot', 'sparrow'), ('Lion', 'Tiger'))\n"
          ]
        }
      ]
    },
    {
      "cell_type": "code",
      "source": [
        "tuple1 = ((\"parrot\", \"sparrow\"), (\"Lion\", \"Tiger\"))\n",
        "print(tuple1)"
      ],
      "metadata": {
        "id": "M1MrKWCfs8tb"
      },
      "execution_count": null,
      "outputs": []
    }
  ]
}