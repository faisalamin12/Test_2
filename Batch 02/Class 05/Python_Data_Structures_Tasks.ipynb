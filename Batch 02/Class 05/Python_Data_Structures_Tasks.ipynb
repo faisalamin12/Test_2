{
 "cells": [
  {
   "cell_type": "markdown",
   "metadata": {
    "id": "r8JPwRjUIvUp"
   },
   "source": [
    "# Data Structures Tasks:\n",
    "\n",
    "## Tuples:\n",
    "\n",
    "\n",
    "1. Write a program to copy elements 44 and 55 from the following tuple into a new tuple.\n",
    "\n",
    "Given:\n",
    "\n",
    "`tuple1 = (11, 22, 33, 44, 55, 66)`\n",
    "\n",
    "\n",
    "2. Write a program to unpack the following tuple into four variables and display each variable.\n",
    "\n",
    "Given:\n",
    "\n",
    "`tuple1 = (10, 20, 30, 40)`\n",
    "\n",
    "\n",
    "3. Counts the number of occurrences of item 50 from a tuple\n",
    "\n",
    "Given:\n",
    "\n",
    "`tuple1 = (50, 10, 60, 70, 50)`\n",
    "\n",
    "\n",
    "## Sets\n",
    "\n",
    "\n",
    "4. Given a Python list, Write a program to add all its elements into a given set.\n",
    "\n",
    "\n",
    "Given:\n",
    "\n",
    "sample_set = {\"Yellow\", \"Orange\", \"Black\"}\n",
    "\n",
    "sample_list = [\"Blue\", \"Green\", \"Red\"]\n",
    "\n",
    "5. Write a Python program to return a new set with unique items from both sets by removing duplicates.\n",
    "\n",
    "Given:\n",
    "\n",
    "set1 = {10, 20, 30, 40, 50}\n",
    "\n",
    "set2 = {30, 40, 50, 60, 70}\n",
    "\n",
    "\n",
    "\n",
    "6. Write a Python program to remove items 10, 20, 30 from the following set at once.\n",
    "\n",
    "Given:\n",
    "\n",
    "set1 = {10, 20, 30, 40, 50}\n",
    "\n",
    "\n",
    "\n",
    "7. Print the value of key ‘history’ from the below dict\n",
    "sampleDict = {\n",
    "    \"class\": {\n",
    "        \"student\": {\n",
    "            \"name\": \"Mike\",\n",
    "            \"marks\": {\n",
    "                \"physics\": 70,\n",
    "                \"history\": 80\n",
    "            }\n",
    "        }\n",
    "    }\n",
    "\n",
    "\n",
    "\n",
    "8. Delete a list of keys from a dictionary\n",
    "\n",
    "\n",
    "\n",
    "\n",
    "\n"
   ]
  },
  {
   "cell_type": "code",
   "execution_count": null,
   "metadata": {
    "id": "MS0Esn2FMsCX"
   },
   "outputs": [],
   "source": [
    "sample_dict = {\n",
    "    \"name\": \"Kelly\",\n",
    "    \"age\": 25,\n",
    "    \"salary\": 8000,\n",
    "    \"city\": \"New york\"\n",
    "}\n",
    "\n",
    "# Keys to remove\n",
    "keys = [\"name\", \"salary\"]\n"
   ]
  }
 ],
 "metadata": {
  "colab": {
   "provenance": []
  },
  "kernelspec": {
   "display_name": "Python 3 (ipykernel)",
   "language": "python",
   "name": "python3"
  },
  "language_info": {
   "codemirror_mode": {
    "name": "ipython",
    "version": 3
   },
   "file_extension": ".py",
   "mimetype": "text/x-python",
   "name": "python",
   "nbconvert_exporter": "python",
   "pygments_lexer": "ipython3",
   "version": "3.11.5"
  }
 },
 "nbformat": 4,
 "nbformat_minor": 1
}
