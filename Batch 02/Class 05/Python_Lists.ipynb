{
 "cells": [
  {
   "cell_type": "markdown",
   "metadata": {
    "id": "H13SNx7XVGxO"
   },
   "source": [
    "# Python Lists\n",
    "1. Lists are ordered collection of data items.\n",
    "2. They store multiple items in a single variable.\n",
    "3. List items are separated by commas and enclosed within square brackets [].\n",
    "4. Lists are changeable meaning we can alter them after creation."
   ]
  },
  {
   "cell_type": "code",
   "execution_count": 1,
   "metadata": {
    "colab": {
     "base_uri": "https://localhost:8080/"
    },
    "id": "48pUZsEcVG7V",
    "outputId": "b71977f0-5b97-4019-ea25-c2fedb5627ff"
   },
   "outputs": [
    {
     "name": "stdout",
     "output_type": "stream",
     "text": [
      "[1, 2, 2, 3, 5, 4, 6]\n",
      "['Red', 'Green', 'Blue']\n"
     ]
    }
   ],
   "source": [
    "lst1 = [1,2,2,3,5,4,6]\n",
    "lst2 = [\"Red\", \"Green\", \"Blue\"]\n",
    "print(lst1)\n",
    "print(lst2)"
   ]
  },
  {
   "cell_type": "markdown",
   "metadata": {
    "id": "iTlzHLd2VHDp"
   },
   "source": [
    "**Example 02:**\n"
   ]
  },
  {
   "cell_type": "code",
   "execution_count": 2,
   "metadata": {
    "colab": {
     "base_uri": "https://localhost:8080/"
    },
    "id": "tmNf6cYWVHL3",
    "outputId": "26f32a4d-6806-4b3f-948c-f5d6d3744340"
   },
   "outputs": [
    {
     "name": "stdout",
     "output_type": "stream",
     "text": [
      "['Ahmed', 18, 'Bilal', 16, True, 9.9]\n"
     ]
    }
   ],
   "source": [
    "details = [\"Ahmed\", 18, \"Bilal\", 16 , True , 9.9]\n",
    "print(details)"
   ]
  },
  {
   "cell_type": "markdown",
   "metadata": {
    "id": "6TyIe5agVHT-"
   },
   "source": [
    "As we can see, a single list can contain items of different data types.\n",
    "\n",
    "\n",
    "## List Index\n",
    "Each item/element in a list has its own unique index. This index can be used to access any particular item from the list. The first item has index [0], second item has index [1], third item has index [2] and so on."
   ]
  },
  {
   "cell_type": "code",
   "execution_count": 3,
   "metadata": {
    "id": "h0Eyybd2VHbm"
   },
   "outputs": [],
   "source": [
    "colors = [\"Red\", \"Green\", \"Blue\", \"Yellow\", \"Green\"]\n",
    "#          [0]      [1]     [2]      [3]      [4]"
   ]
  },
  {
   "cell_type": "markdown",
   "metadata": {
    "id": "27jOEtRMVHkj"
   },
   "source": [
    "### Accessing list items\n",
    "We can access list items by using its index with the square bracket syntax []. For example colors[0] will give \"Red\", colors[1] will give \"Green\" and so on...\n",
    "\n",
    "### Positive Indexing:\n",
    "As we have seen that list items have index, as such we can access items using these indexes.\n",
    "\n",
    "**Example:**"
   ]
  },
  {
   "cell_type": "code",
   "execution_count": 4,
   "metadata": {
    "colab": {
     "base_uri": "https://localhost:8080/"
    },
    "id": "LCaZ9icKVHsO",
    "outputId": "cf229696-bfb8-44cf-877e-e584c190388e"
   },
   "outputs": [
    {
     "name": "stdout",
     "output_type": "stream",
     "text": [
      "Blue\n",
      "Green\n",
      "Red\n"
     ]
    }
   ],
   "source": [
    "colors = [\"Red\", \"Green\", \"Blue\", \"Yellow\", \"Green\"]\n",
    "#          [0]      [1]     [2]      [3]      [4]\n",
    "print(colors[2])\n",
    "print(colors[4])\n",
    "print(colors[0])"
   ]
  },
  {
   "cell_type": "markdown",
   "metadata": {
    "id": "780zzVuoVHzg"
   },
   "source": [
    "### Negative Indexing:\n",
    "Similar to positive indexing, negative indexing is also used to access items, but from the end of the list. The last item has index [-1], second last item has index [-2], third last item has index [-3] and so on.\n",
    "\n",
    "**Example:**"
   ]
  },
  {
   "cell_type": "code",
   "execution_count": 7,
   "metadata": {
    "colab": {
     "base_uri": "https://localhost:8080/"
    },
    "id": "O903yWeCVH8w",
    "outputId": "bbc80131-2a59-4c1c-9091-febc77a678ac"
   },
   "outputs": [
    {
     "name": "stdout",
     "output_type": "stream",
     "text": [
      "Green\n",
      "Blue\n",
      "Red\n"
     ]
    }
   ],
   "source": [
    "colors = [\"Red\", \"Green\", \"Blue\", \"Yellow\", \"Green\"]\n",
    "#          [-5]    [-4]    [-3]     [-2]      [-1]\n",
    "print(colors[-1])\n",
    "print(colors[-3])\n",
    "print(colors[-5])"
   ]
  },
  {
   "cell_type": "markdown",
   "metadata": {
    "id": "kByxOBMlXAmw"
   },
   "source": [
    "## Check whether an item in present in the list?\n",
    "We can check if a given item is present in the list. This is done using the `in` keyword."
   ]
  },
  {
   "cell_type": "code",
   "execution_count": 10,
   "metadata": {
    "colab": {
     "base_uri": "https://localhost:8080/"
    },
    "id": "LsQFeYdWXAuC",
    "outputId": "e61e5418-a604-4d85-efb8-a97373feeb98"
   },
   "outputs": [
    {
     "name": "stdout",
     "output_type": "stream",
     "text": [
      "Yellow is present.\n"
     ]
    }
   ],
   "source": [
    "colors = [\"Red\", \"Green\", \"Blue\", \"Yellow\", \"Green\"]\n",
    "if \"Yellow\" in colors:\n",
    "    print(\"Yellow is present.\")\n",
    "else:\n",
    "    print(\"Yellow is absent.\")\n"
   ]
  },
  {
   "cell_type": "markdown",
   "metadata": {
    "id": "3IUtYjb0XA1I"
   },
   "source": [
    "## Range of Index:\n",
    "You can print a range of list items by specifying where you want to start, where do you want to end and if you want to skip elements in between the range.\n",
    "\n",
    "###Syntax:\n",
    "\n",
    "`listName[start : end : jumpIndex]`\n",
    "\n",
    "\n",
    "**Note: jump Index is optional. We will see this in later examples.**\n",
    "\n",
    "**Example:** printing elements within a particular range:"
   ]
  },
  {
   "cell_type": "code",
   "execution_count": 7,
   "metadata": {
    "colab": {
     "base_uri": "https://localhost:8080/"
    },
    "id": "alXCZNMVXA8I",
    "outputId": "40c7dbe9-986b-4003-fc08-53e5b1d542f2"
   },
   "outputs": [
    {
     "name": "stdout",
     "output_type": "stream",
     "text": [
      "['mouse', 'pig', 'horse', 'donkey']\n",
      "['bat', 'mouse', 'pig', 'horse', 'donkey']\n"
     ]
    }
   ],
   "source": [
    "animals = [\"cat\", \"dog\", \"bat\", \"mouse\", \"pig\", \"horse\", \"donkey\", \"goat\", \"cow\"]\n",
    "print(animals[3:7])\t#using positive indexes\n",
    "print(animals[-7:-2])\t#using negative indexes'"
   ]
  },
  {
   "cell_type": "markdown",
   "metadata": {
    "id": "4dvzAZFUXBDK"
   },
   "source": [
    "Here, we provide index of the element from where we want to start and the index of the element till which we want to print the values.\n",
    "\n",
    "**Note:** The element of the end index provided will not be included.\n",
    "\n",
    "**Example: printing all element from a given index till the end**"
   ]
  },
  {
   "cell_type": "code",
   "execution_count": 11,
   "metadata": {
    "colab": {
     "base_uri": "https://localhost:8080/"
    },
    "id": "fIT596pfXBKS",
    "outputId": "eb4543cc-63e7-4d0e-d444-18bac447b75b"
   },
   "outputs": [
    {
     "name": "stdout",
     "output_type": "stream",
     "text": [
      "['pig', 'horse', 'donkey', 'goat', 'cow']\n",
      "['horse', 'donkey', 'goat', 'cow']\n"
     ]
    }
   ],
   "source": [
    "animals = [\"cat\", \"dog\", \"bat\", \"mouse\", \"pig\", \"horse\", \"donkey\", \"goat\", \"cow\"]\n",
    "print(animals[4:10])\t#using positive indexes\n",
    "print(animals[-4:])\t#using negative indexes"
   ]
  },
  {
   "cell_type": "markdown",
   "metadata": {
    "id": "0Hmk9Xe-XBQx"
   },
   "source": [
    "When no end index is provided, the interpreter prints all the values till the end.\n",
    "\n",
    "**Example:** printing all elements from start to a given index\n",
    "\n"
   ]
  },
  {
   "cell_type": "code",
   "execution_count": 9,
   "metadata": {
    "colab": {
     "base_uri": "https://localhost:8080/"
    },
    "id": "cNwdmIn3XBYO",
    "outputId": "aec78539-959b-4848-d071-d37bdfa56753"
   },
   "outputs": [
    {
     "name": "stdout",
     "output_type": "stream",
     "text": [
      "['cat', 'dog', 'bat', 'mouse', 'pig', 'horse']\n",
      "['cat', 'dog', 'bat', 'mouse', 'pig', 'horse']\n"
     ]
    }
   ],
   "source": [
    "animals = [\"cat\", \"dog\", \"bat\", \"mouse\", \"pig\", \"horse\", \"donkey\", \"goat\", \"cow\"]\n",
    "print(animals[:6])\t#using positive indexes\n",
    "print(animals[:-3])\t#using negative indexes"
   ]
  },
  {
   "cell_type": "markdown",
   "metadata": {
    "id": "BHL44GfeXBeo"
   },
   "source": [
    "When no start index is provided, the interpreter prints all the values from start up to the end index provided.\n",
    "\n",
    "\n",
    "**Example:** Printing alternate values"
   ]
  },
  {
   "cell_type": "code",
   "execution_count": 14,
   "metadata": {
    "colab": {
     "base_uri": "https://localhost:8080/"
    },
    "id": "GnD-u8aCXBl0",
    "outputId": "40eee37c-7a64-4f18-e5ae-e1298e64d6a3"
   },
   "outputs": [
    {
     "name": "stdout",
     "output_type": "stream",
     "text": [
      "['cat', 'mouse', 'donkey']\n"
     ]
    }
   ],
   "source": [
    "animals = [\"cat\", \"dog\", \"bat\", \"mouse\", \"pig\", \"horse\", \"donkey\", \"goat\", \"cow\"]\n",
    "# print(animals[::2])\t\t#using positive indexes\n",
    "print(animals[-8:-1:2])\t#using negative indexes"
   ]
  },
  {
   "cell_type": "markdown",
   "metadata": {
    "id": "3D9snOSfXBsY"
   },
   "source": [
    "Here, we have not provided start and index, which means all the values will be considered. But as we have provided a jump index of 2 only alternate values will be printed.\n",
    "\n",
    "**Example: printing every 3rd consecutive value withing a given range**"
   ]
  },
  {
   "cell_type": "code",
   "execution_count": 15,
   "metadata": {
    "colab": {
     "base_uri": "https://localhost:8080/"
    },
    "id": "6jPTgjW6XBzD",
    "outputId": "dbd576bc-2465-4ea9-9ae2-477d4b9f0751"
   },
   "outputs": [
    {
     "name": "stdout",
     "output_type": "stream",
     "text": [
      "['dog', 'pig', 'goat']\n"
     ]
    }
   ],
   "source": [
    "animals = [\"cat\", \"dog\", \"bat\", \"mouse\", \"pig\", \"horse\", \"donkey\", \"goat\", \"cow\"]\n",
    "print(animals[1:8:3])"
   ]
  },
  {
   "cell_type": "markdown",
   "metadata": {
    "id": "vFrRB20lXB5r"
   },
   "source": [
    "Here, jump index is 3. Hence it prints every 3rd element within given index."
   ]
  }
 ],
 "metadata": {
  "colab": {
   "provenance": []
  },
  "kernelspec": {
   "display_name": "Python 3 (ipykernel)",
   "language": "python",
   "name": "python3"
  },
  "language_info": {
   "codemirror_mode": {
    "name": "ipython",
    "version": 3
   },
   "file_extension": ".py",
   "mimetype": "text/x-python",
   "name": "python",
   "nbconvert_exporter": "python",
   "pygments_lexer": "ipython3",
   "version": "3.11.5"
  }
 },
 "nbformat": 4,
 "nbformat_minor": 1
}
