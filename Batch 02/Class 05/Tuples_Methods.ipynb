{
 "cells": [
  {
   "cell_type": "markdown",
   "metadata": {
    "id": "mEMO1pr3HWOf"
   },
   "source": [
    "### Manipulating Tuples\n",
    "Tuples are immutable, hence if you want to add, remove or change tuple items, then first you must convert the tuple to a list. Then perform operation on that list and convert it back to tuple.\n",
    "\n",
    "Example:"
   ]
  },
  {
   "cell_type": "code",
   "execution_count": 1,
   "metadata": {
    "colab": {
     "base_uri": "https://localhost:8080/"
    },
    "id": "xMy7NYAqHWXV",
    "outputId": "274ea5bf-2977-4e49-cb50-664f67db63ac"
   },
   "outputs": [
    {
     "name": "stdout",
     "output_type": "stream",
     "text": [
      "('Spain', 'Italy', 'Finland', 'Germany', 'Russia')\n"
     ]
    }
   ],
   "source": [
    "countries = (\"Spain\", \"Italy\", \"India\", \"England\", \"Germany\")\n",
    "temp = list(countries)\n",
    "temp.append(\"Russia\")       #add item\n",
    "temp.pop(3)                 #remove item\n",
    "temp[2] = \"Finland\"         #change item\n",
    "countries = tuple(temp)\n",
    "print(countries)"
   ]
  },
  {
   "cell_type": "code",
   "execution_count": 6,
   "metadata": {},
   "outputs": [
    {
     "name": "stdout",
     "output_type": "stream",
     "text": [
      "[1, 3, 5]\n",
      "[1, 6, 5]\n"
     ]
    },
    {
     "data": {
      "text/plain": [
       "(1, 6, 5)"
      ]
     },
     "execution_count": 6,
     "metadata": {},
     "output_type": "execute_result"
    }
   ],
   "source": [
    "tup1 = (1 ,3 , 5)\n",
    "list1 = list(tup1)\n",
    "print(list1)\n",
    "\n",
    "list1[1] = 6\n",
    "print(list1)\n",
    "tuple(list1)"
   ]
  },
  {
   "cell_type": "markdown",
   "metadata": {
    "id": "Q3Itqu5jHWfc"
   },
   "source": [
    "Thus, we convert the tuple to a list, manipulate items of the list using list methods, then convert list back to a tuple.\n",
    "\n",
    "However, we can directly concatenate two tuples without converting them to list.\n",
    "\n",
    "**Example:**"
   ]
  },
  {
   "cell_type": "code",
   "execution_count": 2,
   "metadata": {
    "colab": {
     "base_uri": "https://localhost:8080/"
    },
    "id": "cA5JBBWPHWlo",
    "outputId": "d546b699-c866-4384-f23b-8ebf94250c67"
   },
   "outputs": [
    {
     "name": "stdout",
     "output_type": "stream",
     "text": [
      "('Pakistan', 'Afghanistan', 'Bangladesh', 'ShriLanka', 'Vietnam', 'India', 'China')\n"
     ]
    }
   ],
   "source": [
    "countries = (\"Pakistan\", \"Afghanistan\", \"Bangladesh\", \"ShriLanka\")\n",
    "countries2 = (\"Vietnam\", \"India\", \"China\")\n",
    "southEastAsia = countries + countries2\n",
    "print(southEastAsia)"
   ]
  },
  {
   "cell_type": "markdown",
   "metadata": {
    "id": "Ks2D_kkKHWsc"
   },
   "source": [
    "# Tuple methods\n",
    "As tuple is immutable type of collection of elements it have limited built in methods.They are explained below\n",
    "\n",
    "### count() Method\n",
    "The count() method of Tuple returns the number of times the given element appears in the tuple.\n",
    "\n",
    "### **Syntax:**\n",
    "**`tuple.count(element)`**\n",
    "\n",
    "\n",
    "**Example**"
   ]
  },
  {
   "cell_type": "code",
   "execution_count": 3,
   "metadata": {
    "colab": {
     "base_uri": "https://localhost:8080/"
    },
    "id": "G5RoRSyyHWyk",
    "outputId": "01c8f403-8cb4-4084-a43b-64950e3227d0"
   },
   "outputs": [
    {
     "name": "stdout",
     "output_type": "stream",
     "text": [
      "Count of 3 in Tuple1 is: 3\n"
     ]
    }
   ],
   "source": [
    "Tuple1 = (0, 1, 2, 3, 2, 3, 1, 3, 2)\n",
    "res = Tuple1.count(3)\n",
    "print('Count of 3 in Tuple1 is:', res)"
   ]
  },
  {
   "cell_type": "code",
   "execution_count": 9,
   "metadata": {},
   "outputs": [
    {
     "name": "stdout",
     "output_type": "stream",
     "text": [
      "3\n"
     ]
    }
   ],
   "source": [
    "Tuple1 = (0, 1, 2, 3, 2, 3, 1, 3, 2)\n",
    "res = Tuple1.index(3 , 2 ,6)\n",
    "print(res)"
   ]
  },
  {
   "cell_type": "markdown",
   "metadata": {
    "id": "YWKeO-_iHW5Z"
   },
   "source": [
    "## index() method\n",
    "The Index() method returns the first occurrence of the given element from the tuple.\n",
    "\n",
    "### Syntax:\n",
    "### `tuple.index(element, start, end)`\n",
    "\n",
    "\n",
    "Note: This method raises a ValueError if the element is not found in the tuple.\n",
    "\n",
    "**Example**"
   ]
  },
  {
   "cell_type": "code",
   "execution_count": 10,
   "metadata": {
    "colab": {
     "base_uri": "https://localhost:8080/"
    },
    "id": "m2xKHoAoHW_O",
    "outputId": "d23232b7-d892-41ff-f2b6-81d1ba0ad73c"
   },
   "outputs": [
    {
     "name": "stdout",
     "output_type": "stream",
     "text": [
      "First occurrence of 3 is 3\n"
     ]
    }
   ],
   "source": [
    "Tuple = (0, 1, 2, 3, 2, 3, 1, 3, 2)\n",
    "res = Tuple.index(3)\n",
    "print('First occurrence of 3 is', res)"
   ]
  },
  {
   "cell_type": "code",
   "execution_count": null,
   "metadata": {},
   "outputs": [],
   "source": []
  }
 ],
 "metadata": {
  "colab": {
   "provenance": []
  },
  "kernelspec": {
   "display_name": "Python 3 (ipykernel)",
   "language": "python",
   "name": "python3"
  },
  "language_info": {
   "codemirror_mode": {
    "name": "ipython",
    "version": 3
   },
   "file_extension": ".py",
   "mimetype": "text/x-python",
   "name": "python",
   "nbconvert_exporter": "python",
   "pygments_lexer": "ipython3",
   "version": "3.11.5"
  }
 },
 "nbformat": 4,
 "nbformat_minor": 1
}
