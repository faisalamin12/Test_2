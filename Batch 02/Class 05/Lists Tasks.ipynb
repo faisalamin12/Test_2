{
 "cells": [
  {
   "cell_type": "markdown",
   "id": "b44ef57f",
   "metadata": {},
   "source": [
    "1. Write a  Python program to sum all the items in a list.\n",
    "\n",
    "\n",
    "\n",
    "2. Given a list of numbers. write a program to turn every item of a list into its square.\n",
    "\n",
    "numbers = [1, 2, 3, 4, 5, 6, 7]\n",
    "\n",
    "\n",
    "\n",
    "3. You have given a Python list. Write a program to find value 20 in the list, and if it is present, replace it with 200. Only update the first occurrence of an item.\n",
    "\n",
    "list1 = [5, 10, 15, 20, 25, 50, 20]"
   ]
  },
  {
   "cell_type": "code",
   "execution_count": null,
   "id": "0e8a860a",
   "metadata": {},
   "outputs": [],
   "source": []
  }
 ],
 "metadata": {
  "kernelspec": {
   "display_name": "Python 3 (ipykernel)",
   "language": "python",
   "name": "python3"
  },
  "language_info": {
   "codemirror_mode": {
    "name": "ipython",
    "version": 3
   },
   "file_extension": ".py",
   "mimetype": "text/x-python",
   "name": "python",
   "nbconvert_exporter": "python",
   "pygments_lexer": "ipython3",
   "version": "3.11.5"
  }
 },
 "nbformat": 4,
 "nbformat_minor": 5
}
