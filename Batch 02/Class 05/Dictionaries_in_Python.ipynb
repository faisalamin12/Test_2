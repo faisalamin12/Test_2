{
 "cells": [
  {
   "cell_type": "markdown",
   "metadata": {
    "id": "fmFj3lRjyZTn"
   },
   "source": [
    "# Python Dictionaries\n",
    "Dictionaries are ordered collection of data items. They store multiple items in a single variable. Dictionary items are key-value pairs that are separated by commas and enclosed within curly brackets {}."
   ]
  },
  {
   "cell_type": "code",
   "execution_count": 1,
   "metadata": {
    "colab": {
     "base_uri": "https://localhost:8080/"
    },
    "id": "dcsbi2L7yZbh",
    "outputId": "151b2777-2c58-4ec6-d437-b5b9dada52a9"
   },
   "outputs": [
    {
     "name": "stdout",
     "output_type": "stream",
     "text": [
      "{'name': 'Ahmed', 'age': 19}\n"
     ]
    }
   ],
   "source": [
    "info = {'name':'Ahmed', 'age':19}\n",
    "print(info)"
   ]
  },
  {
   "cell_type": "markdown",
   "metadata": {
    "id": "2cmWDtTLyZj4"
   },
   "source": [
    "## Accessing Dictionary items:\n",
    "### I. Accessing single values:\n",
    "Values in a dictionary can be accessed using keys. We can access dictionary values by mentioning keys either in square brackets or by using get method.\n",
    "\n",
    "**Example:**"
   ]
  },
  {
   "cell_type": "code",
   "execution_count": 3,
   "metadata": {
    "colab": {
     "base_uri": "https://localhost:8080/"
    },
    "id": "scQljO5ByZrB",
    "outputId": "62e19bb8-00c6-4b41-a4ab-27e33d90a183"
   },
   "outputs": [
    {
     "name": "stdout",
     "output_type": "stream",
     "text": [
      "Ahmed\n",
      "19\n"
     ]
    }
   ],
   "source": [
    "info = {'name':'Ahmed', 'age':19}\n",
    "print(info['name'])\n",
    "print(info.get('age'))"
   ]
  },
  {
   "cell_type": "markdown",
   "metadata": {
    "id": "zU8odAJCyZyo"
   },
   "source": [
    "### II. Accessing multiple values:\n",
    "We can print all the values in the dictionary using values() method.\n",
    "\n",
    "**Example:**"
   ]
  },
  {
   "cell_type": "code",
   "execution_count": 4,
   "metadata": {
    "colab": {
     "base_uri": "https://localhost:8080/"
    },
    "id": "v-6hEDKYyZ6V",
    "outputId": "d1c48d76-26ae-4d34-ff42-370be154bbe7"
   },
   "outputs": [
    {
     "name": "stdout",
     "output_type": "stream",
     "text": [
      "dict_values(['Ahmed', 19, True])\n"
     ]
    }
   ],
   "source": [
    "info = {'name':'Ahmed', 'age':19, 'eligible':True}\n",
    "print(info.values())"
   ]
  },
  {
   "cell_type": "markdown",
   "metadata": {
    "id": "5ti_cWrByaBH"
   },
   "source": [
    "### III. Accessing keys:\n",
    "We can print all the keys in the dictionary using keys() method.\n",
    "\n",
    "**Example:**"
   ]
  },
  {
   "cell_type": "code",
   "execution_count": 6,
   "metadata": {
    "colab": {
     "base_uri": "https://localhost:8080/"
    },
    "id": "pBbADGhtyaI_",
    "outputId": "d26f9af6-03ef-42e3-8612-786ee75fa7b0"
   },
   "outputs": [
    {
     "name": "stdout",
     "output_type": "stream",
     "text": [
      "dict_keys(['name', 'age', 'eligible'])\n"
     ]
    }
   ],
   "source": [
    "info = {'name':'Ahmed', 'age':19, 'eligible':True}\n",
    "print(info.keys())"
   ]
  },
  {
   "cell_type": "markdown",
   "metadata": {
    "id": "zhqv2vWzyaQv"
   },
   "source": [
    "### IV. Accessing key-value pairs:\n",
    "We can print all the key-value pairs in the dictionary using items() method.\n",
    "\n",
    "**Example:**"
   ]
  },
  {
   "cell_type": "code",
   "execution_count": 7,
   "metadata": {
    "colab": {
     "base_uri": "https://localhost:8080/"
    },
    "id": "-7QpKKzIyaZb",
    "outputId": "1a6da4e3-951f-43d9-8289-1017da431305"
   },
   "outputs": [
    {
     "name": "stdout",
     "output_type": "stream",
     "text": [
      "dict_items([('name', 'Ahmed'), ('age', 19), ('eligible', True)])\n"
     ]
    }
   ],
   "source": [
    "info = {'name':'Ahmed', 'age':19, 'eligible':True}\n",
    "print(info.items())"
   ]
  }
 ],
 "metadata": {
  "colab": {
   "provenance": []
  },
  "kernelspec": {
   "display_name": "Python 3 (ipykernel)",
   "language": "python",
   "name": "python3"
  },
  "language_info": {
   "codemirror_mode": {
    "name": "ipython",
    "version": 3
   },
   "file_extension": ".py",
   "mimetype": "text/x-python",
   "name": "python",
   "nbconvert_exporter": "python",
   "pygments_lexer": "ipython3",
   "version": "3.11.5"
  }
 },
 "nbformat": 4,
 "nbformat_minor": 1
}
