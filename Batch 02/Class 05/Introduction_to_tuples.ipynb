{
 "cells": [
  {
   "cell_type": "markdown",
   "metadata": {
    "id": "Ox9iA5VD5247"
   },
   "source": [
    "# Python Tuples\n",
    "Tuples are ordered collection of data items. They store multiple items in a single variable. Tuple items are separated by commas and enclosed within round brackets (). Tuples are unchangeable meaning we can not alter them after creation.\n",
    "\n",
    " **Example 1:**"
   ]
  },
  {
   "cell_type": "code",
   "execution_count": 1,
   "metadata": {
    "colab": {
     "base_uri": "https://localhost:8080/"
    },
    "id": "flICP9QV53DX",
    "outputId": "4cf6d104-a1c4-41f8-9013-06a5e9557e06"
   },
   "outputs": [
    {
     "name": "stdout",
     "output_type": "stream",
     "text": [
      "(1, 2, 2, 3, 5, 4, 6)\n",
      "('Red', 'Green', 'Blue')\n"
     ]
    }
   ],
   "source": [
    "tuple1 = (1,2,2,3,5,4,6)\n",
    "tuple2 = (\"Red\", \"Green\", \"Blue\")\n",
    "print(tuple1)\n",
    "print(tuple2)"
   ]
  },
  {
   "cell_type": "markdown",
   "metadata": {
    "id": "nRAuVffB53Lc"
   },
   "source": [
    "**Example 2**"
   ]
  },
  {
   "cell_type": "code",
   "execution_count": 3,
   "metadata": {},
   "outputs": [
    {
     "name": "stdout",
     "output_type": "stream",
     "text": [
      "<class 'tuple'>\n"
     ]
    }
   ],
   "source": [
    "tup1 = (1 ,)\n",
    "print(type(tup1))"
   ]
  },
  {
   "cell_type": "code",
   "execution_count": 4,
   "metadata": {
    "colab": {
     "base_uri": "https://localhost:8080/"
    },
    "id": "eKT9-T8U53SE",
    "outputId": "d0abb7e1-ca80-467e-f5da-c961fa8b8e7a"
   },
   "outputs": [
    {
     "name": "stdout",
     "output_type": "stream",
     "text": [
      "('Ahmed', 18, 'Ali', 9.8)\n"
     ]
    }
   ],
   "source": [
    "details = (\"Ahmed\", 18, \"Ali\", 9.8)\n",
    "print(details)"
   ]
  },
  {
   "cell_type": "markdown",
   "metadata": {
    "id": "eFnCAnfa53YW"
   },
   "source": [
    "# Tuple Indexes\n",
    "Each item/element in a tuple has its own unique index. This index can be used to access any particular item from the tuple. The first item has index [0], second item has index [1], third item has index [2] and so on.\n",
    "\n"
   ]
  },
  {
   "cell_type": "code",
   "execution_count": 5,
   "metadata": {
    "id": "cixx4N7u53ek"
   },
   "outputs": [],
   "source": [
    "country = (\"Spain\", \"Italy\", \"India\",)\n",
    "#            [0]      [1]      [2]"
   ]
  },
  {
   "cell_type": "markdown",
   "metadata": {
    "id": "18zuGKqP53mw"
   },
   "source": [
    "### Accessing tuple items:\n",
    "1.  Positive Indexing:\n",
    "As we have seen that tuple items have index, as such we can access items using these indexes."
   ]
  },
  {
   "cell_type": "code",
   "execution_count": 6,
   "metadata": {
    "colab": {
     "base_uri": "https://localhost:8080/"
    },
    "id": "0cptFC2Y53tn",
    "outputId": "811cb94d-8f26-436d-d652-b769f91e42ae"
   },
   "outputs": [
    {
     "name": "stdout",
     "output_type": "stream",
     "text": [
      "Spain\n",
      "Italy\n",
      "India\n"
     ]
    }
   ],
   "source": [
    "country = (\"Spain\", \"Italy\", \"India\",)\n",
    "#            [0]      [1]      [2]\n",
    "print(country[0])\n",
    "print(country[1])\n",
    "print(country[2])"
   ]
  },
  {
   "cell_type": "markdown",
   "metadata": {
    "id": "oH7bZAVh531H"
   },
   "source": [
    "2. Negative Indexing:\n",
    "Similar to positive indexing, negative indexing is also used to access items, but from the end of the tuple. The last item has index [-1], second last item has index [-2], third last item has index [-3] and so on.\n",
    "\n",
    "**Example:**"
   ]
  },
  {
   "cell_type": "code",
   "execution_count": 7,
   "metadata": {
    "colab": {
     "base_uri": "https://localhost:8080/"
    },
    "id": "n5eXQD_B53-S",
    "outputId": "fabfff59-d71b-4f28-ae83-9f77944b78d7"
   },
   "outputs": [
    {
     "name": "stdout",
     "output_type": "stream",
     "text": [
      "Germany\n",
      "India\n",
      "Italy\n"
     ]
    }
   ],
   "source": [
    "country = (\"Spain\", \"Italy\", \"India\", \"England\", \"Germany\")\n",
    "#            [0]      [1]      [2]       [3]        [4]\n",
    "print(country[-1]) # Similar to print(country[len(country) - 1])\n",
    "print(country[-3])\n",
    "print(country[-4])"
   ]
  },
  {
   "cell_type": "markdown",
   "metadata": {
    "id": "D7CxipW854FZ"
   },
   "source": [
    "### Check for item:\n",
    "We can check if a given item is present in the tuple. This is done using the in keyword.\n",
    "\n",
    "**Example 1:**"
   ]
  },
  {
   "cell_type": "code",
   "execution_count": 8,
   "metadata": {
    "colab": {
     "base_uri": "https://localhost:8080/"
    },
    "id": "0BgmJdbA54L7",
    "outputId": "7a41ec01-9559-4d1e-a746-33821b992a19"
   },
   "outputs": [
    {
     "name": "stdout",
     "output_type": "stream",
     "text": [
      "Germany is present.\n"
     ]
    }
   ],
   "source": [
    "country = (\"Spain\", \"Italy\", \"India\", \"England\", \"Germany\")\n",
    "if \"Germany\" in country:\n",
    "    print(\"Germany is present.\")\n",
    "else:\n",
    "    print(\"Germany is absent.\")"
   ]
  },
  {
   "cell_type": "markdown",
   "metadata": {
    "id": "eAGdJhkt9MHO"
   },
   "source": [
    "**Example 2:**"
   ]
  },
  {
   "cell_type": "code",
   "execution_count": 9,
   "metadata": {
    "colab": {
     "base_uri": "https://localhost:8080/"
    },
    "id": "8poLjev19MRW",
    "outputId": "311fb7d1-a0b4-4689-b505-38ef58f95fd9"
   },
   "outputs": [
    {
     "name": "stdout",
     "output_type": "stream",
     "text": [
      "Russia is absent.\n"
     ]
    }
   ],
   "source": [
    "country = (\"Spain\", \"Italy\", \"India\", \"England\", \"Germany\")\n",
    "if \"Russia\" in country:\n",
    "    print(\"Russia is present.\")\n",
    "else:\n",
    "    print(\"Russia is absent.\")"
   ]
  },
  {
   "cell_type": "markdown",
   "metadata": {
    "id": "6AbqVW8w9MYx"
   },
   "source": [
    "###Range of Index:\n",
    "You can print a range of tuple items by specifying where do you want to start, where do you want to end and if you want to skip elements in between the range.\n",
    "\n",
    "**Syntax:**\n",
    "`Tuple[start : end : jumpIndex]`\n",
    "\n",
    "\n",
    "Note: jump Index is optional. We will see this in given examples.\n",
    "\n",
    "### **Example: Printing elements within a particular range:**"
   ]
  },
  {
   "cell_type": "code",
   "execution_count": 10,
   "metadata": {
    "colab": {
     "base_uri": "https://localhost:8080/"
    },
    "id": "oLUqRDQx9Mfz",
    "outputId": "4df5e316-82c6-4176-d7c0-a3ece7c34124"
   },
   "outputs": [
    {
     "name": "stdout",
     "output_type": "stream",
     "text": [
      "('mouse', 'pig', 'horse', 'donkey')\n",
      "('bat', 'mouse', 'pig', 'horse', 'donkey')\n"
     ]
    }
   ],
   "source": [
    "animals = (\"cat\", \"dog\", \"bat\", \"mouse\", \"pig\", \"horse\", \"donkey\", \"goat\", \"cow\")\n",
    "print(animals[3:7])     #using positive indexes\n",
    "print(animals[-7:-2])   #using negative indexes"
   ]
  },
  {
   "cell_type": "markdown",
   "metadata": {
    "id": "ldfswzRW9Mml"
   },
   "source": [
    "Here, we provide index of the element from where we want to start and the index of the element till which we want to print the values. Note: The element of the end index provided will not be included.\n",
    "\n",
    "### **Example: Printing all element from a given index till the end**"
   ]
  },
  {
   "cell_type": "code",
   "execution_count": 11,
   "metadata": {
    "colab": {
     "base_uri": "https://localhost:8080/"
    },
    "id": "DMDLsH9d9MtS",
    "outputId": "aa268236-a1d8-4191-e220-38f9ee8faca5"
   },
   "outputs": [
    {
     "name": "stdout",
     "output_type": "stream",
     "text": [
      "('pig', 'horse', 'donkey', 'goat', 'cow')\n",
      "('horse', 'donkey', 'goat', 'cow')\n"
     ]
    }
   ],
   "source": [
    "animals = (\"cat\", \"dog\", \"bat\", \"mouse\", \"pig\", \"horse\", \"donkey\", \"goat\", \"cow\")\n",
    "print(animals[4:])      #using positive indexes\n",
    "print(animals[-4:])     #using negative indexes"
   ]
  },
  {
   "cell_type": "markdown",
   "metadata": {
    "id": "uMhe8oMr94k6"
   },
   "source": [
    "When no end index is provided, the interpreter prints all the values till the end.\n",
    "\n",
    "### **Example: printing all elements from start to a given index**"
   ]
  },
  {
   "cell_type": "code",
   "execution_count": 11,
   "metadata": {
    "colab": {
     "base_uri": "https://localhost:8080/"
    },
    "id": "9UysXTL794ua",
    "outputId": "e0048842-cd01-44e7-d474-bbddb8d07fb5"
   },
   "outputs": [
    {
     "name": "stdout",
     "output_type": "stream",
     "text": [
      "('cat', 'dog', 'bat', 'mouse', 'pig', 'horse')\n",
      "('cat', 'dog', 'bat', 'mouse', 'pig', 'horse')\n"
     ]
    }
   ],
   "source": [
    "animals = (\"cat\", \"dog\", \"bat\", \"mouse\", \"pig\", \"horse\", \"donkey\", \"goat\", \"cow\")\n",
    "print(animals[:6])      #using positive indexes\n",
    "print(animals[:-3])     #using negative indexes"
   ]
  },
  {
   "cell_type": "markdown",
   "metadata": {
    "id": "WZUEXdwM941v"
   },
   "source": [
    "When no start index is provided, the interpreter prints all the values from start up to the end index provided.\n",
    "\n",
    "### **Example: Print alternate values**"
   ]
  },
  {
   "cell_type": "code",
   "execution_count": 12,
   "metadata": {
    "colab": {
     "base_uri": "https://localhost:8080/"
    },
    "id": "-WY-npLj947w",
    "outputId": "bd47a889-8199-40e6-adcb-28ae9c37749e"
   },
   "outputs": [
    {
     "name": "stdout",
     "output_type": "stream",
     "text": [
      "('cat', 'bat', 'pig', 'donkey', 'cow')\n",
      "('dog', 'mouse', 'horse', 'goat')\n"
     ]
    }
   ],
   "source": [
    "animals = (\"cat\", \"dog\", \"bat\", \"mouse\", \"pig\", \"horse\", \"donkey\", \"goat\", \"cow\")\n",
    "print(animals[::2])     #using positive indexes\n",
    "print(animals[-8:-1:2]) #using negative indexes"
   ]
  },
  {
   "cell_type": "markdown",
   "metadata": {
    "id": "Lejdg9b095DN"
   },
   "source": [
    "Here, we have not provided start and end index, which means all the values will be considered. But as we have provided a jump index of 2 only alternate values will be printed.\n",
    "\n",
    "### **Example: printing every 3rd consecutive withing given range**"
   ]
  },
  {
   "cell_type": "code",
   "execution_count": 13,
   "metadata": {
    "colab": {
     "base_uri": "https://localhost:8080/"
    },
    "id": "yPAcJlgH95MA",
    "outputId": "5411679f-47c0-4a87-91bc-83c63a7a1a6b"
   },
   "outputs": [
    {
     "name": "stdout",
     "output_type": "stream",
     "text": [
      "('dog', 'pig', 'goat')\n"
     ]
    }
   ],
   "source": [
    "animals = (\"cat\", \"dog\", \"bat\", \"mouse\", \"pig\", \"horse\", \"donkey\", \"goat\", \"cow\")\n",
    "print(animals[1:8:3])"
   ]
  },
  {
   "cell_type": "code",
   "execution_count": null,
   "metadata": {},
   "outputs": [],
   "source": []
  }
 ],
 "metadata": {
  "colab": {
   "provenance": []
  },
  "kernelspec": {
   "display_name": "Python 3 (ipykernel)",
   "language": "python",
   "name": "python3"
  },
  "language_info": {
   "codemirror_mode": {
    "name": "ipython",
    "version": 3
   },
   "file_extension": ".py",
   "mimetype": "text/x-python",
   "name": "python",
   "nbconvert_exporter": "python",
   "pygments_lexer": "ipython3",
   "version": "3.11.5"
  }
 },
 "nbformat": 4,
 "nbformat_minor": 1
}
