{
 "cells": [
  {
   "cell_type": "markdown",
   "metadata": {
    "id": "BZZYqruYoWRy"
   },
   "source": [
    "# break statement\n",
    "The break statement enables a program to skip over a part of the code. A break statement terminates the very loop it lies within.\n",
    "\n",
    "### Example"
   ]
  },
  {
   "cell_type": "code",
   "execution_count": 1,
   "metadata": {
    "colab": {
     "base_uri": "https://localhost:8080/"
    },
    "id": "eIS7hzDxoWYZ",
    "outputId": "a73940ad-57ea-4a94-d335-6d657eda40fd"
   },
   "outputs": [
    {
     "name": "stdout",
     "output_type": "stream",
     "text": [
      "1 Mississippi\n",
      "2 Mississippi\n",
      "3 Mississippi\n",
      "4 Mississippi\n",
      "5 Mississippi\n",
      "6 Mississippi\n",
      "7 Mississippi\n",
      "8 Mississippi\n",
      "9 Mississippi\n",
      "10 Mississippi\n",
      "11 Mississippi\n",
      "12 Mississippi\n",
      "13 Mississippi\n",
      "14 Mississippi\n",
      "15 Mississippi\n",
      "16 Mississippi\n",
      "17 Mississippi\n",
      "18 Mississippi\n",
      "19 Mississippi\n",
      "20 Mississippi\n",
      "21 Mississippi\n",
      "22 Mississippi\n",
      "23 Mississippi\n",
      "24 Mississippi\n",
      "25 Mississippi\n",
      "26 Mississippi\n",
      "27 Mississippi\n",
      "28 Mississippi\n",
      "29 Mississippi\n",
      "30 Mississippi\n",
      "31 Mississippi\n",
      "32 Mississippi\n",
      "33 Mississippi\n",
      "34 Mississippi\n",
      "35 Mississippi\n",
      "36 Mississippi\n",
      "37 Mississippi\n",
      "38 Mississippi\n",
      "39 Mississippi\n",
      "40 Mississippi\n",
      "41 Mississippi\n",
      "42 Mississippi\n",
      "43 Mississippi\n",
      "44 Mississippi\n",
      "45 Mississippi\n",
      "46 Mississippi\n",
      "47 Mississippi\n",
      "48 Mississippi\n",
      "49 Mississippi\n",
      "50 51 Mississippi\n",
      "52 Mississippi\n",
      "53 Mississippi\n",
      "54 Mississippi\n",
      "55 Mississippi\n",
      "56 Mississippi\n",
      "57 Mississippi\n",
      "58 Mississippi\n",
      "59 Mississippi\n",
      "60 Mississippi\n",
      "61 Mississippi\n",
      "62 Mississippi\n",
      "63 Mississippi\n",
      "64 Mississippi\n",
      "65 Mississippi\n",
      "66 Mississippi\n",
      "67 Mississippi\n",
      "68 Mississippi\n",
      "69 Mississippi\n",
      "70 Mississippi\n",
      "71 Mississippi\n",
      "72 Mississippi\n",
      "73 Mississippi\n",
      "74 Mississippi\n",
      "75 Mississippi\n",
      "76 Mississippi\n",
      "77 Mississippi\n",
      "78 Mississippi\n",
      "79 Mississippi\n",
      "80 Mississippi\n",
      "81 Mississippi\n",
      "82 Mississippi\n",
      "83 Mississippi\n",
      "84 Mississippi\n",
      "85 Mississippi\n",
      "86 Mississippi\n",
      "87 Mississippi\n",
      "88 Mississippi\n",
      "89 Mississippi\n",
      "90 Mississippi\n",
      "91 Mississippi\n",
      "92 Mississippi\n",
      "93 Mississippi\n",
      "94 Mississippi\n",
      "95 Mississippi\n",
      "96 Mississippi\n",
      "97 Mississippi\n",
      "98 Mississippi\n",
      "99 Mississippi\n",
      "100 Mississippi\n",
      "Thank you\n"
     ]
    }
   ],
   "source": [
    "for i in range(1,101):\n",
    "    print(i ,end=\" \")\n",
    "    if(i==50):\n",
    "        continue\n",
    "    else:\n",
    "        print(\"Mississippi\")\n",
    "print(\"Thank you\")"
   ]
  },
  {
   "cell_type": "markdown",
   "metadata": {
    "id": "bFgsyp5KoWfz"
   },
   "source": [
    "#Continue Statement\n",
    "The continue statement skips the rest of the loop statements and causes the next iteration to occur.\n",
    "\n",
    "### Example"
   ]
  },
  {
   "cell_type": "code",
   "execution_count": 2,
   "metadata": {
    "colab": {
     "base_uri": "https://localhost:8080/"
    },
    "id": "aXxrimr-oWmB",
    "outputId": "033400f6-e71f-4a6e-f71c-0d5549d65f35"
   },
   "outputs": [
    {
     "name": "stdout",
     "output_type": "stream",
     "text": [
      "2\n",
      "4\n",
      "6\n",
      "8\n",
      "0\n"
     ]
    }
   ],
   "source": [
    "for i in [2,3,4,6,8,0]:\n",
    "    if (i%2!=0):\n",
    "        continue\n",
    "    print(i)"
   ]
  },
  {
   "cell_type": "code",
   "execution_count": null,
   "metadata": {},
   "outputs": [],
   "source": []
  }
 ],
 "metadata": {
  "colab": {
   "provenance": []
  },
  "kernelspec": {
   "display_name": "Python 3 (ipykernel)",
   "language": "python",
   "name": "python3"
  },
  "language_info": {
   "codemirror_mode": {
    "name": "ipython",
    "version": 3
   },
   "file_extension": ".py",
   "mimetype": "text/x-python",
   "name": "python",
   "nbconvert_exporter": "python",
   "pygments_lexer": "ipython3",
   "version": "3.11.5"
  }
 },
 "nbformat": 4,
 "nbformat_minor": 1
}
