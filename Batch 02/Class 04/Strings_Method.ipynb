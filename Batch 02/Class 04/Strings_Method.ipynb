{
 "cells": [
  {
   "cell_type": "markdown",
   "metadata": {
    "id": "MURR3qzB9lLc"
   },
   "source": [
    "# String methods\n",
    "Python provides a set of built-in methods that we can use to alter and modify the strings.\n",
    "\n",
    "### upper() :\n",
    "The upper() method converts a string to upper case."
   ]
  },
  {
   "cell_type": "code",
   "execution_count": 3,
   "metadata": {
    "colab": {
     "base_uri": "https://localhost:8080/"
    },
    "id": "SafDrH2w9pA-",
    "outputId": "6fb57275-05fc-4b99-c1c0-709cdf5a7f80"
   },
   "outputs": [
    {
     "name": "stdout",
     "output_type": "stream",
     "text": [
      "ABCDEFGHIJ\n",
      "AbcDEfghIJ\n"
     ]
    }
   ],
   "source": [
    "str1 = \"AbcDEfghIJ\"\n",
    "print(str1.upper())\n",
    "print(str1)\n",
    "str2 = str1.upper()"
   ]
  },
  {
   "cell_type": "markdown",
   "metadata": {
    "id": "uBV598HD9uP5"
   },
   "source": [
    "### lower()\n",
    "The lower() method converts a string to lower case."
   ]
  },
  {
   "cell_type": "code",
   "execution_count": 4,
   "metadata": {
    "colab": {
     "base_uri": "https://localhost:8080/"
    },
    "id": "q7b-PNZe98-4",
    "outputId": "b005e60f-61cd-4f0e-a4af-20f71a07b7bb"
   },
   "outputs": [
    {
     "name": "stdout",
     "output_type": "stream",
     "text": [
      "abcdefghij\n"
     ]
    }
   ],
   "source": [
    "str1 = \"AbcDEfghIJ\"\n",
    "print(str1.lower())"
   ]
  },
  {
   "cell_type": "markdown",
   "metadata": {
    "id": "jjHL53NW-QOH"
   },
   "source": [
    "### strip() :\n",
    "The strip() method removes any white spaces before and after the string."
   ]
  },
  {
   "cell_type": "code",
   "execution_count": 7,
   "metadata": {
    "colab": {
     "base_uri": "https://localhost:8080/"
    },
    "id": "mI3CyQFl-SjD",
    "outputId": "97e9429e-265d-488d-bc61-5576a406e35a"
   },
   "outputs": [
    {
     "name": "stdout",
     "output_type": "stream",
     "text": [
      "Silver Spoon\n"
     ]
    }
   ],
   "source": [
    "str2 = \"      Silver Spoon\"\n",
    "print(str2.strip())"
   ]
  },
  {
   "cell_type": "markdown",
   "metadata": {
    "id": "y1q1o8Zk-fCO"
   },
   "source": [
    "### rstrip() :\n",
    "the rstrip() removes any trailing characters. Example:"
   ]
  },
  {
   "cell_type": "code",
   "execution_count": 8,
   "metadata": {
    "colab": {
     "base_uri": "https://localhost:8080/"
    },
    "id": "BRpomCfP_d_R",
    "outputId": "0e55de23-c94e-4b98-9064-33ed74867eb7"
   },
   "outputs": [
    {
     "name": "stdout",
     "output_type": "stream",
     "text": [
      "Hello \n"
     ]
    }
   ],
   "source": [
    "str3 = \"Hello !!!\"\n",
    "print(str3.rstrip(\"!\"))"
   ]
  },
  {
   "cell_type": "markdown",
   "metadata": {
    "id": "6RiTQn6-IBZA"
   },
   "source": [
    "### replace() :\n",
    "The replace() method replaces all occurences of a string with another string. Example:"
   ]
  },
  {
   "cell_type": "code",
   "execution_count": 9,
   "metadata": {
    "colab": {
     "base_uri": "https://localhost:8080/"
    },
    "id": "pjVN5J8pIFSp",
    "outputId": "6e8ce732-ba90-49fc-997d-ff7a0c9e0738"
   },
   "outputs": [
    {
     "name": "stdout",
     "output_type": "stream",
     "text": [
      "Silver Moon Moon\n"
     ]
    }
   ],
   "source": [
    "str2 = \"Silver Spoon Spoon\"\n",
    "print(str2.replace(\"Sp\", \"M\"))"
   ]
  },
  {
   "cell_type": "markdown",
   "metadata": {
    "id": "IF7T_-7gIOsl"
   },
   "source": [
    "### split() :\n",
    "The split() method splits the given string at the specified instance and returns the separated strings as list items.\n",
    "\n",
    "**Example:**"
   ]
  },
  {
   "cell_type": "code",
   "execution_count": 11,
   "metadata": {
    "colab": {
     "base_uri": "https://localhost:8080/"
    },
    "id": "QJRUbvPjIngm",
    "outputId": "29b6fe03-e0f7-400a-d725-991d700c8e64"
   },
   "outputs": [
    {
     "name": "stdout",
     "output_type": "stream",
     "text": [
      "['Silver', 'Spoon']\n"
     ]
    }
   ],
   "source": [
    "str2 = \"Silver Spoon\"\n",
    "print(str2.split(\" \"))      #Splits the string at the whitespace \" \"."
   ]
  },
  {
   "cell_type": "markdown",
   "metadata": {
    "id": "25FtvesMJBdC"
   },
   "source": [
    "### capitalize() :\n",
    "The capitalize() method turns only the first character of the string to uppercase and the rest other characters of the string are turned to lowercase. The string has no effect if the first character is already uppercase."
   ]
  },
  {
   "cell_type": "code",
   "execution_count": 3,
   "metadata": {
    "colab": {
     "base_uri": "https://localhost:8080/"
    },
    "id": "udz-qwMYJF6x",
    "outputId": "e72bf38c-2e77-4169-e3ca-0d14df087dcf"
   },
   "outputs": [
    {
     "name": "stdout",
     "output_type": "stream",
     "text": [
      "Hello\n",
      "Hello world\n"
     ]
    }
   ],
   "source": [
    "str1 = \"hello\"\n",
    "capStr1 = str1.capitalize()\n",
    "print(capStr1)\n",
    "str2 = \"hello WorlD\"\n",
    "capStr2 = str2.capitalize()\n",
    "print(capStr2)"
   ]
  },
  {
   "cell_type": "markdown",
   "metadata": {
    "id": "xa_wUQoFJRHt"
   },
   "source": [
    "### count() :\n",
    "The count() method returns the number of times the given value has occurred within the given string."
   ]
  },
  {
   "cell_type": "code",
   "execution_count": 4,
   "metadata": {
    "colab": {
     "base_uri": "https://localhost:8080/"
    },
    "id": "6jtbTAc2Jfyg",
    "outputId": "ed48704c-af3a-4bab-a466-c0f4a5351513"
   },
   "outputs": [
    {
     "name": "stdout",
     "output_type": "stream",
     "text": [
      "4\n"
     ]
    }
   ],
   "source": [
    "str2 = \"Abracadabra\"\n",
    "countStr = str2.count(\"a\")\n",
    "print(countStr)"
   ]
  },
  {
   "cell_type": "markdown",
   "metadata": {
    "id": "XR3B5IoIKAaU"
   },
   "source": [
    "### endswith() :\n",
    "The endswith() method checks if the string ends with a given value. If yes then return True, else return False."
   ]
  },
  {
   "cell_type": "code",
   "execution_count": 6,
   "metadata": {
    "colab": {
     "base_uri": "https://localhost:8080/"
    },
    "id": "3ebTf9nMKDSr",
    "outputId": "d07699cd-34bd-45e0-e869-e52613f91c28"
   },
   "outputs": [
    {
     "name": "stdout",
     "output_type": "stream",
     "text": [
      "True\n"
     ]
    }
   ],
   "source": [
    "str1 = \"Welcome to the Console !!!\"\n",
    "print(str1.endswith(\"!!!\"))"
   ]
  },
  {
   "cell_type": "markdown",
   "metadata": {
    "id": "0I4D9wjGKNTj"
   },
   "source": [
    "We can even also check for a value in-between the string by providing start and end index positions."
   ]
  },
  {
   "cell_type": "code",
   "execution_count": 12,
   "metadata": {
    "colab": {
     "base_uri": "https://localhost:8080/"
    },
    "id": "ZABKdfi6KOVD",
    "outputId": "236e6c76-4283-4ac5-a9d8-be87adf7574c"
   },
   "outputs": [
    {
     "name": "stdout",
     "output_type": "stream",
     "text": [
      "True\n"
     ]
    }
   ],
   "source": [
    "str1 = \"Welcome to the Console !!!\"\n",
    "print(str1.endswith(\"to\", 4, 10))"
   ]
  },
  {
   "cell_type": "markdown",
   "metadata": {
    "id": "laf-f__lLu1U"
   },
   "source": [
    "### find() :\n",
    "The find() method searches for the first occurrence of the given value and returns the index where it is present. If given value is absent from the string then return -1."
   ]
  },
  {
   "cell_type": "code",
   "execution_count": 14,
   "metadata": {
    "colab": {
     "base_uri": "https://localhost:8080/"
    },
    "id": "GVqmVuXmLyK-",
    "outputId": "c80d895a-aab4-4884-d97a-572bffc83de1"
   },
   "outputs": [
    {
     "name": "stdout",
     "output_type": "stream",
     "text": [
      "10\n"
     ]
    }
   ],
   "source": [
    "str1 = \"He's name is Dan. He is an honest man.\"\n",
    "print(str1.find(\"is\"))"
   ]
  },
  {
   "cell_type": "markdown",
   "metadata": {
    "id": "w_DCnHGJL9B7"
   },
   "source": [
    "As we can see, this method is somewhat similar to the index() method. The major difference being that index() raises an exception if value is absent whereas find() does not.\n",
    "\n",
    "**Example:**"
   ]
  },
  {
   "cell_type": "code",
   "execution_count": 9,
   "metadata": {
    "colab": {
     "base_uri": "https://localhost:8080/"
    },
    "id": "TATGR5aNMBh-",
    "outputId": "019054e6-4440-441f-f81f-2e174f1268bb"
   },
   "outputs": [
    {
     "name": "stdout",
     "output_type": "stream",
     "text": [
      "-1\n"
     ]
    }
   ],
   "source": [
    "str1 = \"He's name is Dan. He is an honest man.\"\n",
    "print(str1.find(\"Daniel\"))"
   ]
  },
  {
   "cell_type": "markdown",
   "metadata": {
    "id": "ny2CHM25MXwX"
   },
   "source": [
    "### index() :\n",
    "The index() method searches for the first occurrence of the given value and returns the index where it is present. If given value is absent from the string then raise an exception.\n",
    "\n",
    "**Example:**"
   ]
  },
  {
   "cell_type": "code",
   "execution_count": 16,
   "metadata": {
    "colab": {
     "base_uri": "https://localhost:8080/"
    },
    "id": "0boeVRLBMftj",
    "outputId": "be1d04f2-8a49-4522-afa7-42a39ba818e3"
   },
   "outputs": [
    {
     "name": "stdout",
     "output_type": "stream",
     "text": [
      "13\n"
     ]
    }
   ],
   "source": [
    "str1 = \"He's name is Dan. Dan is an honest man.\"\n",
    "print(str1.index(\"Dan\"))"
   ]
  },
  {
   "cell_type": "markdown",
   "metadata": {
    "id": "aAcOZ9HIMqgf"
   },
   "source": [
    "As we can see, this method is somewhat similar to the find() method. The major difference being that index() raises an exception if value is absent whereas find() does not.\n",
    "\n",
    "**Example:**"
   ]
  },
  {
   "cell_type": "code",
   "execution_count": 11,
   "metadata": {
    "colab": {
     "base_uri": "https://localhost:8080/",
     "height": 165
    },
    "id": "DqhwonBHMqxc",
    "outputId": "cb85252f-0be1-4330-bc3f-d8e4b68ae140"
   },
   "outputs": [
    {
     "ename": "ValueError",
     "evalue": "substring not found",
     "output_type": "error",
     "traceback": [
      "\u001b[0;31m---------------------------------------------------------------------------\u001b[0m",
      "\u001b[0;31mValueError\u001b[0m                                Traceback (most recent call last)",
      "\u001b[0;32m<ipython-input-11-aeac24f7ddcc>\u001b[0m in \u001b[0;36m<cell line: 2>\u001b[0;34m()\u001b[0m\n\u001b[1;32m      1\u001b[0m \u001b[0mstr1\u001b[0m \u001b[0;34m=\u001b[0m \u001b[0;34m\"He's name is Dan. Dan is an honest man.\"\u001b[0m\u001b[0;34m\u001b[0m\u001b[0;34m\u001b[0m\u001b[0m\n\u001b[0;32m----> 2\u001b[0;31m \u001b[0mprint\u001b[0m\u001b[0;34m(\u001b[0m\u001b[0mstr1\u001b[0m\u001b[0;34m.\u001b[0m\u001b[0mindex\u001b[0m\u001b[0;34m(\u001b[0m\u001b[0;34m\"Daniel\"\u001b[0m\u001b[0;34m)\u001b[0m\u001b[0;34m)\u001b[0m\u001b[0;34m\u001b[0m\u001b[0;34m\u001b[0m\u001b[0m\n\u001b[0m",
      "\u001b[0;31mValueError\u001b[0m: substring not found"
     ]
    }
   ],
   "source": [
    "str1 = \"He's name is Dan. Dan is an honest man.\"\n",
    "print(str1.index(\"Daniel\"))"
   ]
  },
  {
   "cell_type": "markdown",
   "metadata": {
    "id": "2Z_ApBdQMrsS"
   },
   "source": [
    "### isalnum() :\n",
    "The isalnum() method returns True only if the entire string only consists of A-Z, a-z, 0-9. If any other characters or punctuations are present, then it returns False."
   ]
  },
  {
   "cell_type": "code",
   "execution_count": 12,
   "metadata": {
    "colab": {
     "base_uri": "https://localhost:8080/"
    },
    "id": "fw6jFPcXMr_e",
    "outputId": "e09e0d6b-b043-449c-8859-8a72800caa59"
   },
   "outputs": [
    {
     "name": "stdout",
     "output_type": "stream",
     "text": [
      "True\n"
     ]
    }
   ],
   "source": [
    "str1 = \"WelcomeToTheConsole\"\n",
    "print(str1.isalnum())"
   ]
  },
  {
   "cell_type": "markdown",
   "metadata": {
    "id": "or6sfofmMsKf"
   },
   "source": [
    "### isalpha() :\n",
    "The isalnum() method returns True only if the entire string only consists of A-Z, a-z. If any other characters or punctuations or numbers(0-9) are present, then it returns False."
   ]
  },
  {
   "cell_type": "code",
   "execution_count": 18,
   "metadata": {
    "colab": {
     "base_uri": "https://localhost:8080/"
    },
    "id": "kQQNVOGHMsUS",
    "outputId": "882e0275-985f-4b80-8328-24045eab2b23"
   },
   "outputs": [
    {
     "name": "stdout",
     "output_type": "stream",
     "text": [
      "True\n"
     ]
    }
   ],
   "source": [
    "str1 = \"Welcome\"\n",
    "print(str1.isalpha())"
   ]
  },
  {
   "cell_type": "markdown",
   "metadata": {
    "id": "uMaZjMUQMsc-"
   },
   "source": [
    "### islower() :\n",
    "The islower() method returns True if all the characters in the string are lower case, else it returns False."
   ]
  },
  {
   "cell_type": "code",
   "execution_count": 20,
   "metadata": {
    "colab": {
     "base_uri": "https://localhost:8080/"
    },
    "id": "6h0IN2i4Mslf",
    "outputId": "ec4beb34-dba4-4b0a-ebbf-7df9d5715ab8"
   },
   "outputs": [
    {
     "name": "stdout",
     "output_type": "stream",
     "text": [
      "True\n"
     ]
    }
   ],
   "source": [
    "str1 = \"hello world\"\n",
    "print(str1.islower())"
   ]
  },
  {
   "cell_type": "markdown",
   "metadata": {
    "id": "l3f6JkGkMsun"
   },
   "source": [
    "### isupper() :\n",
    "The isupper() method returns True if all the characters in the string are upper case, else it returns False.\n",
    "\n",
    "**Example :**"
   ]
  },
  {
   "cell_type": "code",
   "execution_count": 22,
   "metadata": {
    "colab": {
     "base_uri": "https://localhost:8080/"
    },
    "id": "DkjRn54JMs3N",
    "outputId": "a3a40ff9-1d25-450e-f0a7-8a530dcb5abc"
   },
   "outputs": [
    {
     "name": "stdout",
     "output_type": "stream",
     "text": [
      "True\n"
     ]
    }
   ],
   "source": [
    "str1 = \"WORLD HEALTH ORGANIZATION\"\n",
    "print(str1.isupper())"
   ]
  },
  {
   "cell_type": "markdown",
   "metadata": {
    "id": "00DFNStaMs_X"
   },
   "source": [
    "### startswith() :\n",
    "The startswith() method checks if the string starts with a given value. If yes then return True, else return False."
   ]
  },
  {
   "cell_type": "code",
   "execution_count": 16,
   "metadata": {
    "colab": {
     "base_uri": "https://localhost:8080/"
    },
    "id": "kFsigv7IMtGs",
    "outputId": "d50476a7-7889-4d27-d54e-c2f4752dae11"
   },
   "outputs": [
    {
     "name": "stdout",
     "output_type": "stream",
     "text": [
      "True\n"
     ]
    }
   ],
   "source": [
    "str1 = \"Python is a Interpreted Language\"\n",
    "print(str1.startswith(\"Python\"))"
   ]
  },
  {
   "cell_type": "markdown",
   "metadata": {
    "id": "VoSIm333Of4M"
   },
   "source": [
    "### swapcase() :\n",
    "The swapcase() method changes the character casing of the string. Upper case are converted to lower case and lower case to upper case."
   ]
  },
  {
   "cell_type": "code",
   "execution_count": 17,
   "metadata": {
    "colab": {
     "base_uri": "https://localhost:8080/"
    },
    "id": "upi_I0lZOgA4",
    "outputId": "f678d0a8-c4a0-4d5c-bbad-96d55b812242"
   },
   "outputs": [
    {
     "name": "stdout",
     "output_type": "stream",
     "text": [
      "pYTHON IS A iNTERPRETED lANGUAGE\n"
     ]
    }
   ],
   "source": [
    "str1 = \"Python is a Interpreted Language\"\n",
    "print(str1.swapcase())"
   ]
  },
  {
   "cell_type": "markdown",
   "metadata": {
    "id": "iyL49IWCOgJf"
   },
   "source": [
    "### title() :\n",
    "The title() method capitalizes each letter of the word within the string."
   ]
  },
  {
   "cell_type": "code",
   "execution_count": 18,
   "metadata": {
    "colab": {
     "base_uri": "https://localhost:8080/"
    },
    "id": "LKJkRyzqOgRr",
    "outputId": "d86bdca0-2ef3-4c0e-ad88-6e15a3b1480b"
   },
   "outputs": [
    {
     "name": "stdout",
     "output_type": "stream",
     "text": [
      "He'S Name Is Dan. Dan Is An Honest Man.\n"
     ]
    }
   ],
   "source": [
    "str1 = \"He's name is Dan. Dan is an honest man.\"\n",
    "print(str1.title())"
   ]
  }
 ],
 "metadata": {
  "colab": {
   "provenance": []
  },
  "kernelspec": {
   "display_name": "Python 3 (ipykernel)",
   "language": "python",
   "name": "python3"
  },
  "language_info": {
   "codemirror_mode": {
    "name": "ipython",
    "version": 3
   },
   "file_extension": ".py",
   "mimetype": "text/x-python",
   "name": "python",
   "nbconvert_exporter": "python",
   "pygments_lexer": "ipython3",
   "version": "3.11.5"
  }
 },
 "nbformat": 4,
 "nbformat_minor": 1
}
