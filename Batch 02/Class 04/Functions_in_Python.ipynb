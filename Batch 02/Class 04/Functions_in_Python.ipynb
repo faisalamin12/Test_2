{
 "cells": [
  {
   "cell_type": "markdown",
   "metadata": {
    "id": "qEP6B3gdT63b"
   },
   "source": [
    "# Python Functions\n",
    "\n",
    "A function is a block of code that performs a specific task whenever it is called. In bigger programs, where we have large amounts of code, it is advisable to create or use existing functions that make the program flow organized and neat.\n",
    "\n",
    "There are two types of functions:\n",
    "\n",
    "1. Built-in functions\n",
    "2. User-defined functions\n",
    "3. Built-in functions:\n",
    "\n",
    "These functions are defined and pre-coded in python. Some examples of built-in functions are as follows:\n",
    "\n",
    "min(), max(), len(), sum(), type(), range(), dict(), list(), tuple(), set(), print(), etc.\n",
    "\n",
    "### User-defined functions:\n",
    "We can create functions to perform specific tasks as per our needs. Such functions are called user-defined functions.\n",
    "\n",
    "**Syntax:**"
   ]
  },
  {
   "cell_type": "code",
   "execution_count": 9,
   "metadata": {
    "id": "umLyQzcvT6_S"
   },
   "outputs": [],
   "source": [
    "def function_name(parameters):\n",
    "    pass"
   ]
  },
  {
   "cell_type": "code",
   "execution_count": 7,
   "metadata": {},
   "outputs": [
    {
     "name": "stdout",
     "output_type": "stream",
     "text": [
      "24\n"
     ]
    }
   ],
   "source": [
    "a = 6\n",
    "b = 8\n",
    "\n",
    "# result = a + b\n",
    "# print(result)\n",
    "\n",
    "c = 7\n",
    "d = 0\n",
    "\n",
    "# result1 = c + d\n",
    "# print(result1)\n",
    "\n",
    "\n",
    "def add(a,b):\n",
    "    result = a + b\n",
    "    print(result)\n",
    "    \n",
    "add(8 , 16)"
   ]
  },
  {
   "cell_type": "code",
   "execution_count": null,
   "metadata": {},
   "outputs": [],
   "source": []
  },
  {
   "cell_type": "markdown",
   "metadata": {
    "id": "5tZnpTVHT7G4"
   },
   "source": [
    "1. Create a function using the def keyword, followed by a function name, followed by a paranthesis (()) and a colon(:).\n",
    "2. Any parameters and arguments should be placed within the parentheses.\n",
    "3. Rules to naming function are similar to that of naming variables.\n",
    "4. Any statements and other code within the function should be indented.\n",
    "\n",
    "\n",
    "## Calling a function:\n",
    "We call a function by giving the function name, followed by parameters (if any) in the parenthesis.\n",
    "\n",
    "**Example:**"
   ]
  },
  {
   "cell_type": "code",
   "execution_count": 2,
   "metadata": {
    "colab": {
     "base_uri": "https://localhost:8080/"
    },
    "id": "1NBhp1taT7PY",
    "outputId": "e358be1b-c2d4-4091-ce8e-eb5aaf382aae"
   },
   "outputs": [
    {
     "name": "stdout",
     "output_type": "stream",
     "text": [
      "Hello, Sam Wilson\n"
     ]
    }
   ],
   "source": [
    "def name(fname, lname):\n",
    "    print(\"Hello,\", fname, lname)\n",
    "\n",
    "name(\"Sam\", \"Wilson\")"
   ]
  }
 ],
 "metadata": {
  "colab": {
   "provenance": []
  },
  "kernelspec": {
   "display_name": "Python 3 (ipykernel)",
   "language": "python",
   "name": "python3"
  },
  "language_info": {
   "codemirror_mode": {
    "name": "ipython",
    "version": 3
   },
   "file_extension": ".py",
   "mimetype": "text/x-python",
   "name": "python",
   "nbconvert_exporter": "python",
   "pygments_lexer": "ipython3",
   "version": "3.11.5"
  }
 },
 "nbformat": 4,
 "nbformat_minor": 1
}
