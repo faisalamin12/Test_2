{
  "nbformat": 4,
  "nbformat_minor": 0,
  "metadata": {
    "colab": {
      "provenance": []
    },
    "kernelspec": {
      "name": "python3",
      "display_name": "Python 3"
    },
    "language_info": {
      "name": "python"
    }
  },
  "cells": [
    {
      "cell_type": "markdown",
      "source": [
        "#Function Tasks in Python\n",
        "\n",
        "###1. Write a  Python function to find the maximum of three numbers.\n",
        "###2. Write a Python function to sum all the numbers in a list.\n",
        "###Sample List : (8, 2, 3, 0, 7)\n",
        "### Expected Output : 20\n",
        "\n",
        "### 3. Write a  Python function to multiply all the numbers in a list.\n",
        "###Sample List : (8, 2, 3, -1, 7)\n",
        "###Expected Output : -336"
      ],
      "metadata": {
        "id": "2IP1sB4SaMUV"
      }
    },
    {
      "cell_type": "markdown",
      "source": [],
      "metadata": {
        "id": "XaJIcfpTaMR2"
      }
    },
    {
      "cell_type": "markdown",
      "source": [],
      "metadata": {
        "id": "oGQMnMpAaLMU"
      }
    }
  ]
}