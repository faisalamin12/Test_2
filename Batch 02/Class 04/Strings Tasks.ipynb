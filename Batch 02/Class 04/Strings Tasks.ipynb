{
 "cells": [
  {
   "cell_type": "markdown",
   "id": "d3d0889d",
   "metadata": {},
   "source": [
    "1. Write a Python program to count the number of characters (character frequency) in a string.\n",
    "\n",
    "Sample String : google.com'\n",
    "Expected Result : {'g': 2, 'o': 3, 'l': 1, 'e': 1, '.': 1, 'c': 1, 'm': 1}\n",
    "\n",
    "\n",
    "2.  Write a  Python program to get a string made of the first 2 and last 2 characters of a given string.\n",
    "Sample String : 'HelloWorld'\n",
    "Expected Result : 'Held'\n",
    "\n",
    "3. Write a Python program to add 'ing' at the end of a given string (length should be at least 3). If the given string already ends with 'ing', add 'ly' instead. If the string length of the given string is less than 3, leave it unchanged.\n",
    "Sample String : 'abc'\n",
    "Expected Result : 'abcing'\n",
    "Sample String : 'string'\n",
    "Expected Result : 'stringly'"
   ]
  }
 ],
 "metadata": {
  "kernelspec": {
   "display_name": "Python 3 (ipykernel)",
   "language": "python",
   "name": "python3"
  },
  "language_info": {
   "codemirror_mode": {
    "name": "ipython",
    "version": 3
   },
   "file_extension": ".py",
   "mimetype": "text/x-python",
   "name": "python",
   "nbconvert_exporter": "python",
   "pygments_lexer": "ipython3",
   "version": "3.11.5"
  }
 },
 "nbformat": 4,
 "nbformat_minor": 5
}
