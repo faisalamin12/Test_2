{
 "cells": [
  {
   "cell_type": "markdown",
   "metadata": {
    "id": "_jfRVk9_fnAX"
   },
   "source": [
    "# Introduction to Loops\n",
    "Sometimes a programmer wants to execute a group of statements a certain number of times. This can be done using loops. Based on this loops are further classified into following main types:\n",
    "\n",
    "1. for loop\n",
    "2. while loop\n",
    "\n",
    "## The for Loop\n",
    "for loops can iterate over a sequence of iterable objects in python. Iterating over a sequence is nothing but iterating over strings, lists, tuples, sets and dictionaries.\n",
    "\n",
    "### Example: iterating over a string:"
   ]
  },
  {
   "cell_type": "code",
   "execution_count": 4,
   "metadata": {
    "colab": {
     "base_uri": "https://localhost:8080/"
    },
    "id": "fe1aQgmsfod0",
    "outputId": "d5328813-24d8-4e86-ef27-2d2514ca49a9"
   },
   "outputs": [
    {
     "name": "stdout",
     "output_type": "stream",
     "text": [
      "A,h,m,e,d,"
     ]
    }
   ],
   "source": [
    "name = 'Ahmed'\n",
    "for i in name:\n",
    "    print(i , end = \",\")"
   ]
  },
  {
   "cell_type": "markdown",
   "metadata": {
    "id": "ZDGdLkTcfolq"
   },
   "source": [
    "### Example: iterating over a list:"
   ]
  },
  {
   "cell_type": "code",
   "execution_count": 2,
   "metadata": {
    "colab": {
     "base_uri": "https://localhost:8080/"
    },
    "id": "znEGQWgcfotL",
    "outputId": "36dbb13a-c1b7-4960-f31a-8e98e537453c"
   },
   "outputs": [
    {
     "name": "stdout",
     "output_type": "stream",
     "text": [
      "Red\n",
      "Green\n",
      "Blue\n",
      "Yellow\n"
     ]
    }
   ],
   "source": [
    "colors = [\"Red\", \"Green\", \"Blue\", \"Yellow\"]\n",
    "for x in colors:\n",
    "    print(x)"
   ]
  },
  {
   "cell_type": "markdown",
   "metadata": {
    "id": "sFJ8ORDpfo0Q"
   },
   "source": [
    "Similarly, we can use loops for lists, sets and dictionaries.\n",
    "\n",
    "\n",
    "### range():\n",
    "What if we do not want to iterate over a sequence? What if we want to use for loop for a specific number of times?\n",
    "\n",
    "Here, we can use the range() function.###"
   ]
  },
  {
   "cell_type": "code",
   "execution_count": 3,
   "metadata": {
    "colab": {
     "base_uri": "https://localhost:8080/"
    },
    "id": "4uhOg4gCfo7R",
    "outputId": "79303406-ba0d-4683-b931-65b37ce409e5"
   },
   "outputs": [
    {
     "name": "stdout",
     "output_type": "stream",
     "text": [
      "0\n",
      "1\n",
      "2\n",
      "3\n",
      "4\n"
     ]
    }
   ],
   "source": [
    "for k in range(1):\n",
    "    print(k)"
   ]
  },
  {
   "cell_type": "markdown",
   "metadata": {
    "id": "bPA2QWXbfpDk"
   },
   "source": [
    "Here, we can see that the loop starts from 0 by default and increments at each iteration.\n",
    "\n",
    "But we can also loop over a specific range."
   ]
  },
  {
   "cell_type": "code",
   "execution_count": 4,
   "metadata": {
    "colab": {
     "base_uri": "https://localhost:8080/"
    },
    "id": "OLhhkVbcfpL0",
    "outputId": "383f4a4c-9f2f-487b-b47e-cee39a723f72"
   },
   "outputs": [
    {
     "name": "stdout",
     "output_type": "stream",
     "text": [
      "4\n",
      "5\n",
      "6\n",
      "7\n",
      "8\n"
     ]
    }
   ],
   "source": [
    "for k in range(4,9):\n",
    "    print(k)"
   ]
  }
 ],
 "metadata": {
  "colab": {
   "provenance": []
  },
  "kernelspec": {
   "display_name": "Python 3 (ipykernel)",
   "language": "python",
   "name": "python3"
  },
  "language_info": {
   "codemirror_mode": {
    "name": "ipython",
    "version": 3
   },
   "file_extension": ".py",
   "mimetype": "text/x-python",
   "name": "python",
   "nbconvert_exporter": "python",
   "pygments_lexer": "ipython3",
   "version": "3.11.5"
  }
 },
 "nbformat": 4,
 "nbformat_minor": 1
}
