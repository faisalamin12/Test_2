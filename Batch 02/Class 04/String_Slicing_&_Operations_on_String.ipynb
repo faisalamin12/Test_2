{
 "cells": [
  {
   "cell_type": "markdown",
   "metadata": {
    "id": "jIM-ae-ewEK4"
   },
   "source": [
    "# String Slicing & Operations on String\n",
    "## Length of a String\n",
    "We can find the length of a string using len() function."
   ]
  },
  {
   "cell_type": "code",
   "execution_count": 2,
   "metadata": {
    "colab": {
     "base_uri": "https://localhost:8080/"
    },
    "id": "Y65EWY_UwRsh",
    "outputId": "bee8c58e-522b-415b-877b-e64f8f8c37b8"
   },
   "outputs": [
    {
     "name": "stdout",
     "output_type": "stream",
     "text": [
      "5\n",
      "Mango is a 5 letter word.\n"
     ]
    }
   ],
   "source": [
    "fruit = \"Mango\"\n",
    "len1 = len(fruit)\n",
    "print(len1)\n",
    "print(\"Mango is a\", len1, \"letter word.\")"
   ]
  },
  {
   "cell_type": "markdown",
   "metadata": {
    "id": "hp3mDjSfwc10"
   },
   "source": [
    "## String as an array\n",
    "A string is essentially a sequence of characters also called an array. Thus we can access the elements of this array."
   ]
  },
  {
   "cell_type": "code",
   "execution_count": 8,
   "metadata": {
    "colab": {
     "base_uri": "https://localhost:8080/"
    },
    "id": "vVGGIe_NwgnW",
    "outputId": "59e745cd-926e-4d44-8ebf-3cf7ffe21749"
   },
   "outputs": [
    {
     "name": "stdout",
     "output_type": "stream",
     "text": [
      "8\n",
      "Apple\n",
      "Apple\n",
      "i\n"
     ]
    }
   ],
   "source": [
    "pie = \"ApplePie\"\n",
    "print(len(pie))\n",
    "print(pie[0:5])\n",
    "print(pie[:5])\n",
    "print(pie[6])\t#returns character at specified index"
   ]
  },
  {
   "cell_type": "markdown",
   "metadata": {
    "id": "Dj6MqdYBwrmZ"
   },
   "source": [
    "**Note:** This method of specifying the start and end index to specify a part of a string is called slicing.\n",
    "\n",
    "\n",
    "### Slicing Example:"
   ]
  },
  {
   "cell_type": "code",
   "execution_count": 13,
   "metadata": {
    "colab": {
     "base_uri": "https://localhost:8080/"
    },
    "id": "PNI2e0lbwx_g",
    "outputId": "99f61de7-e6d4-4a69-908a-9330ea43d624"
   },
   "outputs": [
    {
     "name": "stdout",
     "output_type": "stream",
     "text": [
      "Apple\n",
      "Pie\n",
      "pleP\n",
      "ApplePie\n"
     ]
    }
   ],
   "source": [
    "pie = \"ApplePie\"\n",
    "print(pie[:5])      #Slicing from Start\n",
    "print(pie[5:])      #Slicing till End\n",
    "print(pie[2:6])     #Slicing in between\n",
    "print(pie[-8:])     #Slicing using negative index"
   ]
  },
  {
   "cell_type": "markdown",
   "metadata": {
    "id": "5f-KCuKZxDoO"
   },
   "source": []
  },
  {
   "cell_type": "markdown",
   "metadata": {
    "id": "agm5_IZ6xD50"
   },
   "source": [
    "## Loop through a String:\n",
    "Strings are arrays and arrays are iterable. Thus we can loop through strings."
   ]
  },
  {
   "cell_type": "code",
   "execution_count": 14,
   "metadata": {
    "colab": {
     "base_uri": "https://localhost:8080/"
    },
    "id": "w9VT_g2VxFt_",
    "outputId": "9ad4c077-2791-4266-bc5f-416da476de9a"
   },
   "outputs": [
    {
     "name": "stdout",
     "output_type": "stream",
     "text": [
      "A\n",
      "B\n",
      "C\n",
      "D\n",
      "E\n"
     ]
    }
   ],
   "source": [
    "alphabets = \"ABCDE\"\n",
    "for i in alphabets:\n",
    "    print(i)"
   ]
  },
  {
   "cell_type": "code",
   "execution_count": null,
   "metadata": {
    "id": "KRVFhd9zxJ-w"
   },
   "outputs": [],
   "source": []
  }
 ],
 "metadata": {
  "colab": {
   "provenance": []
  },
  "kernelspec": {
   "display_name": "Python 3 (ipykernel)",
   "language": "python",
   "name": "python3"
  },
  "language_info": {
   "codemirror_mode": {
    "name": "ipython",
    "version": 3
   },
   "file_extension": ".py",
   "mimetype": "text/x-python",
   "name": "python",
   "nbconvert_exporter": "python",
   "pygments_lexer": "ipython3",
   "version": "3.11.5"
  }
 },
 "nbformat": 4,
 "nbformat_minor": 1
}
