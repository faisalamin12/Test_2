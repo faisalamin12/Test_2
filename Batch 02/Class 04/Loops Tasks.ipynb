{
 "cells": [
  {
   "cell_type": "markdown",
   "id": "488e6fcc",
   "metadata": {},
   "source": [
    "1. Write a  Python program that prints all the numbers from 0 to 6 except 3 and 6.\n",
    "Expected Output : 0 1 2 4 5\n",
    "\n",
    "\n",
    "2. Write a Python program to guess a number between 1 and 9.\n",
    "   Note : User is prompted to enter a guess. If the user guesses wrong then the prompt appears again      until the guess is correct, on successful guess, user will get a \"Well guessed!\" message, and the      program will exit.\n",
    "   \n",
    "3. Write a Python program to count the number of even and odd numbers in a series of numbers\n",
    "\n",
    "\n",
    "Sample numbers : numbers = (1, 2, 3, 4, 5, 6, 7, 8, 9) \n",
    "Expected Output :\n",
    "Number of even numbers : 5\n",
    "Number of odd numbers : 4"
   ]
  },
  {
   "cell_type": "code",
   "execution_count": null,
   "id": "966dd485",
   "metadata": {},
   "outputs": [],
   "source": []
  }
 ],
 "metadata": {
  "kernelspec": {
   "display_name": "Python 3 (ipykernel)",
   "language": "python",
   "name": "python3"
  },
  "language_info": {
   "codemirror_mode": {
    "name": "ipython",
    "version": 3
   },
   "file_extension": ".py",
   "mimetype": "text/x-python",
   "name": "python",
   "nbconvert_exporter": "python",
   "pygments_lexer": "ipython3",
   "version": "3.11.5"
  }
 },
 "nbformat": 4,
 "nbformat_minor": 5
}
