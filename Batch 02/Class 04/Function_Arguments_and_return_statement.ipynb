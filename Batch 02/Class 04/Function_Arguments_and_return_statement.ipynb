{
 "cells": [
  {
   "cell_type": "markdown",
   "metadata": {
    "id": "qtb2BWFOWqzG"
   },
   "source": [
    "# Function Arguments and return statement\n",
    "There are four types of arguments that we can provide in a function:\n",
    "\n",
    "1. Default Arguments\n",
    "2. Keyword Arguments\n",
    "3. Variable length Arguments\n",
    "4. Required Arguments\n",
    "\n",
    "1. Default arguments:\n",
    "\n",
    "We can provide a default value while creating a function. This way the function assumes a default value even if a value is not provided in the function call for that argument.\n",
    "\n",
    "**Example:**"
   ]
  },
  {
   "cell_type": "code",
   "execution_count": 4,
   "metadata": {
    "colab": {
     "base_uri": "https://localhost:8080/"
    },
    "id": "R2vz8nthWq7x",
    "outputId": "b87966d9-3cd3-4edb-cc2f-a261edb5fca6"
   },
   "outputs": [
    {
     "name": "stdout",
     "output_type": "stream",
     "text": [
      "Hello, Amy Jhon Whatson\n"
     ]
    }
   ],
   "source": [
    "def name(fname, mname = \"Jhon\", lname = \"Whatson\"):\n",
    "    print(\"Hello,\", fname, mname, lname)\n",
    "\n",
    "name(\"Amy\")"
   ]
  },
  {
   "cell_type": "markdown",
   "metadata": {
    "id": "qfPrwY2yWrDx"
   },
   "source": [
    "## Keyword arguments:\n",
    "We can provide arguments with key = value, this way the interpreter recognizes the arguments by the parameter name. Hence, the the order in which the arguments are passed does not matter.\n",
    "\n",
    "**Example:**"
   ]
  },
  {
   "cell_type": "code",
   "execution_count": 2,
   "metadata": {
    "colab": {
     "base_uri": "https://localhost:8080/"
    },
    "id": "cVpHS1dpWrLv",
    "outputId": "b48be67e-3860-4a39-b23c-d3814574b25f"
   },
   "outputs": [
    {
     "name": "stdout",
     "output_type": "stream",
     "text": [
      "Hello, Jade Peter Wesker\n"
     ]
    }
   ],
   "source": [
    "def name(fname, mname, lname):\n",
    "    print(\"Hello,\", fname, mname, lname)\n",
    "\n",
    "name(mname = \"Peter\", lname = \"Wesker\", fname = \"Jade\")"
   ]
  },
  {
   "cell_type": "markdown",
   "metadata": {
    "id": "tJ7iy22BWrS5"
   },
   "source": [
    "## Required arguments:\n",
    "In case we don’t pass the arguments with a key = value syntax, then it is necessary to pass the arguments in the correct positional order and the number of arguments passed should match with actual function definition.\n",
    "\n",
    "**Example 1:**\n",
    "\n",
    "when number of arguments passed does not match to the actual function definition."
   ]
  },
  {
   "cell_type": "code",
   "execution_count": 5,
   "metadata": {
    "colab": {
     "base_uri": "https://localhost:8080/",
     "height": 183
    },
    "id": "bGUkgvjKWra7",
    "outputId": "383d69ae-9e15-400b-e4b4-79e17307b374"
   },
   "outputs": [
    {
     "ename": "TypeError",
     "evalue": "name() missing 1 required positional argument: 'lname'",
     "output_type": "error",
     "traceback": [
      "\u001b[1;31m---------------------------------------------------------------------------\u001b[0m",
      "\u001b[1;31mTypeError\u001b[0m                                 Traceback (most recent call last)",
      "Cell \u001b[1;32mIn[5], line 4\u001b[0m\n\u001b[0;32m      1\u001b[0m \u001b[38;5;28;01mdef\u001b[39;00m \u001b[38;5;21mname\u001b[39m(fname, mname, lname):\n\u001b[0;32m      2\u001b[0m     \u001b[38;5;28mprint\u001b[39m(\u001b[38;5;124m\"\u001b[39m\u001b[38;5;124mHello,\u001b[39m\u001b[38;5;124m\"\u001b[39m, fname, mname, lname)\n\u001b[1;32m----> 4\u001b[0m name(\u001b[38;5;124m\"\u001b[39m\u001b[38;5;124mPeter\u001b[39m\u001b[38;5;124m\"\u001b[39m, \u001b[38;5;124m\"\u001b[39m\u001b[38;5;124mQuill\u001b[39m\u001b[38;5;124m\"\u001b[39m)\n",
      "\u001b[1;31mTypeError\u001b[0m: name() missing 1 required positional argument: 'lname'"
     ]
    }
   ],
   "source": [
    "def name(fname, mname, lname):\n",
    "    print(\"Hello,\", fname, mname, lname)\n",
    "\n",
    "name(\"Peter\", \"Quill\")"
   ]
  },
  {
   "cell_type": "markdown",
   "metadata": {
    "id": "AB4B_ZNPWrif"
   },
   "source": [
    "**Example 2**:\n",
    "\n",
    "when number of arguments passed matches to the actual function definition."
   ]
  },
  {
   "cell_type": "code",
   "execution_count": 6,
   "metadata": {
    "colab": {
     "base_uri": "https://localhost:8080/"
    },
    "id": "c3E78CWiYeO3",
    "outputId": "509922a1-6c6f-4412-b7a0-0e3b44fbcd16"
   },
   "outputs": [
    {
     "name": "stdout",
     "output_type": "stream",
     "text": [
      "Hello, Peter Ego Quill\n"
     ]
    }
   ],
   "source": [
    "def name(fname, mname, lname):\n",
    "    print(\"Hello,\", fname, mname, lname)\n",
    "\n",
    "name(\"Peter\", \"Ego\", \"Quill\")"
   ]
  },
  {
   "cell_type": "markdown",
   "metadata": {
    "id": "fxWIAm1XWryI"
   },
   "source": [
    "## Variable-length arguments:\n",
    "Sometimes we may need to pass more arguments than those defined in the actual function. This can be done using variable-length arguments.\n",
    "\n",
    "There are two ways to achieve this:\n",
    "\n",
    "### Arbitrary Arguments:\n",
    "While creating a function, pass a * before the parameter name while defining the function. The function accesses the arguments by processing them in the form of tuple.\n",
    "\n",
    "**Example:**"
   ]
  },
  {
   "cell_type": "code",
   "execution_count": 7,
   "metadata": {
    "colab": {
     "base_uri": "https://localhost:8080/"
    },
    "id": "wngYUys7Wr6M",
    "outputId": "8638357e-728d-4439-ed5d-385167e5ebd6"
   },
   "outputs": [
    {
     "name": "stdout",
     "output_type": "stream",
     "text": [
      "Hello, James Buchanan Barnes\n"
     ]
    }
   ],
   "source": [
    "def name(*name):\n",
    "    print(\"Hello,\", name[0], name[1], name[2])\n",
    "\n",
    "name(\"James\", \"Buchanan\", \"Barnes\")"
   ]
  },
  {
   "cell_type": "markdown",
   "metadata": {
    "id": "Xf-KbvQcWsBn"
   },
   "source": [
    "## return Statement\n",
    "The return statement is used to return the value of the expression back to the calling function."
   ]
  },
  {
   "cell_type": "code",
   "execution_count": 9,
   "metadata": {
    "colab": {
     "base_uri": "https://localhost:8080/"
    },
    "id": "D-m8jz7SWsLd",
    "outputId": "bb19d58a-a536-4c24-f1f6-9cfe29235771"
   },
   "outputs": [
    {
     "name": "stdout",
     "output_type": "stream",
     "text": [
      "Hello, James Buchanan Barnes\n"
     ]
    }
   ],
   "source": [
    "def name(fname, mname, lname):\n",
    "    return \"Hello, \" + fname + \" \" + mname + \" \" + lname\n",
    "\n",
    "print(name(\"James\", \"Buchanan\", \"Barnes\"))"
   ]
  },
  {
   "cell_type": "code",
   "execution_count": 11,
   "metadata": {},
   "outputs": [],
   "source": [
    "def subtract(a , b):\n",
    "    result = a - b\n",
    "    return result\n",
    "\n",
    "c = subtract(10 , 5)"
   ]
  },
  {
   "cell_type": "code",
   "execution_count": 12,
   "metadata": {},
   "outputs": [
    {
     "data": {
      "text/plain": [
       "5"
      ]
     },
     "execution_count": 12,
     "metadata": {},
     "output_type": "execute_result"
    }
   ],
   "source": [
    "c"
   ]
  },
  {
   "cell_type": "code",
   "execution_count": null,
   "metadata": {},
   "outputs": [],
   "source": []
  }
 ],
 "metadata": {
  "colab": {
   "provenance": []
  },
  "kernelspec": {
   "display_name": "Python 3 (ipykernel)",
   "language": "python",
   "name": "python3"
  },
  "language_info": {
   "codemirror_mode": {
    "name": "ipython",
    "version": 3
   },
   "file_extension": ".py",
   "mimetype": "text/x-python",
   "name": "python",
   "nbconvert_exporter": "python",
   "pygments_lexer": "ipython3",
   "version": "3.11.5"
  }
 },
 "nbformat": 4,
 "nbformat_minor": 1
}
