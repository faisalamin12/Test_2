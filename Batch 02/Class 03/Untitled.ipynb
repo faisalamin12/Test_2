{
 "cells": [
  {
   "cell_type": "code",
   "execution_count": 4,
   "id": "ea1c8d5a",
   "metadata": {},
   "outputs": [
    {
     "name": "stdout",
     "output_type": "stream",
     "text": [
      "Enter a number: 2\n",
      "Enter a number: 2\n",
      "4\n"
     ]
    }
   ],
   "source": [
    "a = int(input(\"Enter a number: \"))\n",
    "b = int(input(\"Enter a number: \"))\n",
    "print(a+b)"
   ]
  },
  {
   "cell_type": "code",
   "execution_count": 5,
   "id": "3f1cc12d",
   "metadata": {},
   "outputs": [
    {
     "name": "stdout",
     "output_type": "stream",
     "text": [
      "7.4\n"
     ]
    }
   ],
   "source": [
    "a = 2.4\n",
    "b = 5\n",
    "\n",
    "print(a+b)"
   ]
  },
  {
   "cell_type": "code",
   "execution_count": 7,
   "id": "cd45af64",
   "metadata": {},
   "outputs": [
    {
     "name": "stdout",
     "output_type": "stream",
     "text": [
      "Yes\n",
      "OK\n"
     ]
    }
   ],
   "source": [
    "name = \"ahmed\"\n",
    "status = 0\n",
    "\n",
    "if name == \"ahmed\":\n",
    "    print(\"Yes\")\n",
    "    status = \"OK\"\n",
    "    print(status)\n",
    "    "
   ]
  },
  {
   "cell_type": "code",
   "execution_count": 8,
   "id": "05425656",
   "metadata": {},
   "outputs": [
    {
     "name": "stdout",
     "output_type": "stream",
     "text": [
      "Enter Your Name: Faisal\n"
     ]
    }
   ],
   "source": [
    "name = input(\"Enter Your Name: \")\n",
    "status = 0\n",
    "\n",
    "if name == \"ahmed\":\n",
    "    print(\"Yes\")\n",
    "    status = \"OK\"\n",
    "    print(status)"
   ]
  },
  {
   "cell_type": "code",
   "execution_count": 10,
   "id": "3e8e9b97",
   "metadata": {},
   "outputs": [
    {
     "name": "stdout",
     "output_type": "stream",
     "text": [
      "Enter Your Name: Faisal\n",
      "No\n"
     ]
    }
   ],
   "source": [
    "name = input(\"Enter Your Name: \")\n",
    "status = 0\n",
    "\n",
    "if name == \"ahmed\":\n",
    "    print(\"Yes\")\n",
    "else:\n",
    "    print(\"No\")\n"
   ]
  },
  {
   "cell_type": "code",
   "execution_count": 13,
   "id": "0090a054",
   "metadata": {},
   "outputs": [
    {
     "name": "stdout",
     "output_type": "stream",
     "text": [
      "Enter your name: bilal\n",
      "No\n"
     ]
    }
   ],
   "source": [
    "name = input(\"Enter your name: \")\n",
    "if name == \"ahmed\":\n",
    "    print(\"Its Ahmed\")\n",
    "elif name == \"Bilal\":\n",
    "    print(\"Its Bilal\")\n",
    "else:\n",
    "    print(\"No\")"
   ]
  },
  {
   "cell_type": "code",
   "execution_count": 17,
   "id": "8ed9f7dd",
   "metadata": {},
   "outputs": [
    {
     "name": "stdout",
     "output_type": "stream",
     "text": [
      "Enter First Number: 4\n",
      "Enter Second Number: 7\n",
      "Enter an Operator:+\n",
      "11\n"
     ]
    }
   ],
   "source": [
    "num1 = int(input(\"Enter First Number: \"))\n",
    "num2 = int(input(\"Enter Second Number: \"))\n",
    "opr = input(\"Enter an Operator:\" )\n",
    "\n",
    "if opr == \"+\":\n",
    "    print(num1+ num2)\n",
    "elif opr == \"-\":\n",
    "    print(num1-num2)\n",
    "elif opr == \"x\":\n",
    "    print(num1*num2)\n",
    "elif opr == \"/\":\n",
    "    print(num1/num2)\n",
    "else:\n",
    "    print(\"operator not found\")"
   ]
  },
  {
   "cell_type": "code",
   "execution_count": 18,
   "id": "0c1e6f90",
   "metadata": {},
   "outputs": [
    {
     "name": "stdout",
     "output_type": "stream",
     "text": [
      "Yes\n"
     ]
    }
   ],
   "source": [
    "name = \"Faisal\"\n",
    "\n",
    "if name != \"Hammad\":\n",
    "    print(\"Yes\")"
   ]
  },
  {
   "cell_type": "code",
   "execution_count": 19,
   "id": "673b9f12",
   "metadata": {},
   "outputs": [
    {
     "name": "stdout",
     "output_type": "stream",
     "text": [
      "Age is greeater than 18\n"
     ]
    }
   ],
   "source": [
    "age = 22\n",
    "\n",
    "if age > 18:\n",
    "    print(\"Age is greeater than 18\")"
   ]
  },
  {
   "cell_type": "code",
   "execution_count": 20,
   "id": "dd56e9d0",
   "metadata": {},
   "outputs": [
    {
     "data": {
      "text/plain": [
       "True"
      ]
     },
     "execution_count": 20,
     "metadata": {},
     "output_type": "execute_result"
    }
   ],
   "source": [
    "True and True"
   ]
  },
  {
   "cell_type": "code",
   "execution_count": 21,
   "id": "14afccd3",
   "metadata": {},
   "outputs": [
    {
     "data": {
      "text/plain": [
       "False"
      ]
     },
     "execution_count": 21,
     "metadata": {},
     "output_type": "execute_result"
    }
   ],
   "source": [
    "True and False"
   ]
  },
  {
   "cell_type": "code",
   "execution_count": 24,
   "id": "2ff4b200",
   "metadata": {},
   "outputs": [
    {
     "name": "stdout",
     "output_type": "stream",
     "text": [
      "Enter your age: 17\n",
      "Enter your qualification: inter\n",
      "You are not eligible\n"
     ]
    }
   ],
   "source": [
    "age = int(input(\"Enter your age: \"))\n",
    "qualification = input(\"Enter your qualification: \")\n",
    "\n",
    "if age > 18 and qualification == \"matric\": # True and True\n",
    "    print(\"You are eligible\")\n",
    "else:\n",
    "    print(\"You are not eligible\")\n"
   ]
  },
  {
   "cell_type": "code",
   "execution_count": 25,
   "id": "862ca6da",
   "metadata": {},
   "outputs": [
    {
     "data": {
      "text/plain": [
       "True"
      ]
     },
     "execution_count": 25,
     "metadata": {},
     "output_type": "execute_result"
    }
   ],
   "source": [
    "True or False"
   ]
  },
  {
   "cell_type": "code",
   "execution_count": 27,
   "id": "1399c93e",
   "metadata": {},
   "outputs": [
    {
     "name": "stdout",
     "output_type": "stream",
     "text": [
      "Enter your weight: 41\n",
      "Enter your age: 27\n",
      "OK\n"
     ]
    }
   ],
   "source": [
    "weight = int(input(\"Enter your weight: \"))\n",
    "age = int(input(\"Enter your age: \"))\n",
    "\n",
    "if weight > 45 or age > 19:\n",
    "    print(\"OK\")"
   ]
  },
  {
   "cell_type": "code",
   "execution_count": 28,
   "id": "fc9f28d4",
   "metadata": {},
   "outputs": [
    {
     "name": "stdout",
     "output_type": "stream",
     "text": [
      "OK\n"
     ]
    }
   ],
   "source": [
    "a = 2\n",
    "b = 2\n",
    "c = 2\n",
    "d = 2\n",
    "\n",
    "if a == b:\n",
    "    if c == d:\n",
    "        print(\"OK\")\n",
    "else:\n",
    "    print(\"No\")"
   ]
  },
  {
   "cell_type": "code",
   "execution_count": null,
   "id": "1cfb446f",
   "metadata": {},
   "outputs": [],
   "source": [
    "if a == b and c == d"
   ]
  }
 ],
 "metadata": {
  "kernelspec": {
   "display_name": "Python 3 (ipykernel)",
   "language": "python",
   "name": "python3"
  },
  "language_info": {
   "codemirror_mode": {
    "name": "ipython",
    "version": 3
   },
   "file_extension": ".py",
   "mimetype": "text/x-python",
   "name": "python",
   "nbconvert_exporter": "python",
   "pygments_lexer": "ipython3",
   "version": "3.11.5"
  }
 },
 "nbformat": 4,
 "nbformat_minor": 5
}
