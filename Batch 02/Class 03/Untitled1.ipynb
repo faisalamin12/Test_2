{
 "cells": [
  {
   "cell_type": "code",
   "execution_count": 1,
   "id": "8ddfc307",
   "metadata": {},
   "outputs": [],
   "source": [
    "list1 = [2,4,5,8,7]"
   ]
  },
  {
   "cell_type": "code",
   "execution_count": 2,
   "id": "62f846aa",
   "metadata": {},
   "outputs": [
    {
     "name": "stdout",
     "output_type": "stream",
     "text": [
      "[2, 4, 5, 8, 7]\n"
     ]
    }
   ],
   "source": [
    "print(list1)"
   ]
  },
  {
   "cell_type": "code",
   "execution_count": 3,
   "id": "52ffcced",
   "metadata": {},
   "outputs": [],
   "source": [
    "list2 = [2, \"a\" , 3]\n",
    "        #0 , 1,   2"
   ]
  },
  {
   "cell_type": "code",
   "execution_count": 4,
   "id": "65fef747",
   "metadata": {},
   "outputs": [
    {
     "name": "stdout",
     "output_type": "stream",
     "text": [
      "[2, 'a', 3]\n"
     ]
    }
   ],
   "source": [
    "print(list2)"
   ]
  },
  {
   "cell_type": "code",
   "execution_count": 5,
   "id": "a28d0c15",
   "metadata": {},
   "outputs": [
    {
     "name": "stdout",
     "output_type": "stream",
     "text": [
      "a\n"
     ]
    }
   ],
   "source": [
    "print(list2[1])"
   ]
  },
  {
   "cell_type": "code",
   "execution_count": 6,
   "id": "2a2b2c89",
   "metadata": {},
   "outputs": [
    {
     "name": "stdout",
     "output_type": "stream",
     "text": [
      "3\n"
     ]
    }
   ],
   "source": [
    "print(len(list2))"
   ]
  },
  {
   "cell_type": "code",
   "execution_count": 8,
   "id": "1f5fa649",
   "metadata": {},
   "outputs": [
    {
     "name": "stdout",
     "output_type": "stream",
     "text": [
      "you are in which city: Lahore\n",
      "Welcome to Lahore\n"
     ]
    }
   ],
   "source": [
    "city_0 = \"Karachi\"\n",
    "city_1 = \"Lahore\"\n",
    "city_2 = \"Islamabad\"\n",
    "\n",
    "which_city = input(\"you are in which city: \")\n",
    "\n",
    "if which_city == city_0:\n",
    "    print(\"Welcome to \" + city_0)\n",
    "elif which_city == city_1:\n",
    "    print(\"Welcome to \" + city_1)\n",
    "elif which_city == city_2:\n",
    "    print(\"Welcome to \" + city_2)"
   ]
  },
  {
   "cell_type": "code",
   "execution_count": null,
   "id": "d5c57477",
   "metadata": {},
   "outputs": [],
   "source": []
  }
 ],
 "metadata": {
  "kernelspec": {
   "display_name": "Python 3 (ipykernel)",
   "language": "python",
   "name": "python3"
  },
  "language_info": {
   "codemirror_mode": {
    "name": "ipython",
    "version": 3
   },
   "file_extension": ".py",
   "mimetype": "text/x-python",
   "name": "python",
   "nbconvert_exporter": "python",
   "pygments_lexer": "ipython3",
   "version": "3.11.5"
  }
 },
 "nbformat": 4,
 "nbformat_minor": 5
}
