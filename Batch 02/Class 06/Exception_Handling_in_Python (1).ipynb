{
  "nbformat": 4,
  "nbformat_minor": 0,
  "metadata": {
    "colab": {
      "provenance": []
    },
    "kernelspec": {
      "name": "python3",
      "display_name": "Python 3"
    },
    "language_info": {
      "name": "python"
    }
  },
  "cells": [
    {
      "cell_type": "markdown",
      "source": [
        "#Exception Handling\n",
        "\n",
        "Exception handling is the process of responding to unwanted or unexpected events when a computer program runs. Exception handling deals with these events to avoid the program or system crashing, and without this process, exceptions would disrupt the normal operation of a program.\n",
        "\n",
        "Exceptions in Python\n",
        "Python has many built-in exceptions that are raised when your program encounters an error (something in the program goes wrong).\n",
        "\n",
        "When these exceptions occur, the Python interpreter stops the current process and passes it to the calling process until it is handled. If not handled, the program will crash.\n",
        "\n",
        "Python try...except\n",
        "try….. except blocks are used in python to handle errors and exceptions. The code in try block runs when there is no error. If the try block catches the error, then the except block is executed.\n",
        "\n",
        "**Syntax:**\n",
        "\n",
        "```\n",
        "try:\n",
        "     #statements which could generate\n",
        "     #exception\n",
        "except:\n",
        "     #Soloution of generated exception\n",
        "```\n",
        "\n"
      ],
      "metadata": {
        "id": "gxeQcTnK2LQD"
      }
    },
    {
      "cell_type": "code",
      "source": [
        "a = input(\"Enter the number: \")\n",
        "print(f\"Multiplication table of {a} is: \")\n",
        "try:\n",
        "  for i in range(1, 11):\n",
        "    print(f\"{int(a)} X {i} = {int(a)*i}\")\n",
        "except:\n",
        "  print(\"Invalid  Input!\")\n",
        "\n",
        "print(\"Some imp lines of code\")\n",
        "print(\"End of program\")"
      ],
      "metadata": {
        "id": "KMdS6jo52LXW"
      },
      "execution_count": null,
      "outputs": []
    },
    {
      "cell_type": "code",
      "source": [
        "try:\n",
        "    num = int(input(\"Enter an integer: \"))\n",
        "except ValueError:\n",
        "    print(\"Number entered is not an integer.\")"
      ],
      "metadata": {
        "id": "wikOwXQP3IXb"
      },
      "execution_count": null,
      "outputs": []
    },
    {
      "cell_type": "code",
      "source": [
        "try:\n",
        "    num = int(input(\"Enter an integer: \"))\n",
        "    a = [6, 3]\n",
        "    print(a[num])\n",
        "except ValueError:\n",
        "    print(\"Number entered is not an integer.\")\n",
        "\n",
        "except IndexError:\n",
        "  print(\"Index Error\")"
      ],
      "metadata": {
        "id": "VV63TpQ03Lqh"
      },
      "execution_count": null,
      "outputs": []
    },
    {
      "cell_type": "markdown",
      "source": [
        "# Finally Clause\n",
        "The finally code block is also a part of exception handling. When we handle exception using the try and except block, we can include a finally block at the end. The finally block is always executed, so it is generally used for doing the concluding tasks like closing file resources or closing database connection or may be ending the program execution with a delightful message.\n",
        "\n",
        "**Syntax:**\n",
        "\n",
        "\n",
        "\n",
        "```\n",
        "try:\n",
        "   #statements which could generate\n",
        "   #exception\n",
        "except:\n",
        "   #solution of generated exception\n",
        "finally:\n",
        "    #block of code which is going to\n",
        "    #execute in any situation\n",
        "```\n",
        "\n",
        "The finally block is executed irrespective of the outcome of try……except…..else blocks\n",
        "One of the important use cases of finally block is in a function which returns a value.\n",
        "\n"
      ],
      "metadata": {
        "id": "mZ1OtBsM2Lek"
      }
    },
    {
      "cell_type": "code",
      "source": [
        "try:\n",
        "    l = [1, 5, 6, 7]\n",
        "    i = int(input(\"Enter the index: \"))\n",
        "    print(l[i])\n",
        "\n",
        "except:\n",
        "    print(\"Some error occurred\")\n",
        "\n",
        "finally:\n",
        "    print(\"I am always executed\")\n"
      ],
      "metadata": {
        "colab": {
          "base_uri": "https://localhost:8080/"
        },
        "id": "KvmHRvei2Lkc",
        "outputId": "2bc138c5-9356-4854-e50f-903c77e134dd"
      },
      "execution_count": 4,
      "outputs": [
        {
          "output_type": "stream",
          "name": "stdout",
          "text": [
            "Enter the index: 8\n",
            "Some error occurred\n",
            "I am always executed\n"
          ]
        }
      ]
    },
    {
      "cell_type": "code",
      "source": [
        "try:\n",
        "    l = [1, 5, 6, 7]\n",
        "    i = int(input(\"Enter the index: \"))\n",
        "    print(l[i])\n",
        "except:\n",
        "    print(\"Some error occurred\")\n",
        "\n",
        "\n",
        "\n",
        "print(\"I am always executed\")"
      ],
      "metadata": {
        "colab": {
          "base_uri": "https://localhost:8080/"
        },
        "id": "cfNHwPva3xhJ",
        "outputId": "7568d85c-47e0-4397-cec1-2c94c3fd97d9"
      },
      "execution_count": 3,
      "outputs": [
        {
          "output_type": "stream",
          "name": "stdout",
          "text": [
            "Enter the index: 8\n",
            "Some error occurred\n",
            "I am always executed\n"
          ]
        }
      ]
    },
    {
      "cell_type": "code",
      "source": [
        "def func1():\n",
        "  try:\n",
        "    l = [1, 5, 6, 7]\n",
        "    i = int(input(\"Enter the index: \"))\n",
        "    print(l[i])\n",
        "    return 1\n",
        "  except:\n",
        "    print(\"Some error occurred\")\n",
        "    return 0\n",
        "\n",
        "  finally:\n",
        "    print(\"I am always executed\")\n",
        "\n",
        "\n",
        "x = func1()\n",
        "print(x)"
      ],
      "metadata": {
        "colab": {
          "base_uri": "https://localhost:8080/"
        },
        "id": "6aWyX2zD4IoM",
        "outputId": "a3c0099d-9b18-4bbe-aead-f85e9af1a667"
      },
      "execution_count": 5,
      "outputs": [
        {
          "output_type": "stream",
          "name": "stdout",
          "text": [
            "Enter the index: 6\n",
            "Some error occurred\n",
            "I am always executed\n",
            "0\n"
          ]
        }
      ]
    },
    {
      "cell_type": "code",
      "source": [
        "try:\n",
        "    num = int(input(\"Enter an integer: \"))\n",
        "except ValueError:\n",
        "    print(\"Number entered is not an integer.\")\n",
        "else:\n",
        "    print(\"Integer Accepted.\")\n",
        "finally:\n",
        "    print(\"This block is always executed.\")"
      ],
      "metadata": {
        "id": "SGaiOI5c2Lwo"
      },
      "execution_count": null,
      "outputs": []
    }
  ]
}