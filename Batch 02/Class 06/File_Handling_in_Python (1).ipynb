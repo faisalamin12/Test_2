{
  "nbformat": 4,
  "nbformat_minor": 0,
  "metadata": {
    "colab": {
      "provenance": []
    },
    "kernelspec": {
      "name": "python3",
      "display_name": "Python 3"
    },
    "language_info": {
      "name": "python"
    }
  },
  "cells": [
    {
      "cell_type": "markdown",
      "source": [
        "Python provides several ways to manipulate files. Today, we will discuss how to handle files in Python.\n",
        "\n",
        "## Opening a File\n",
        "Before we can perform any operations on a file, we must first open it. Python provides the open() function to open a file. It takes two arguments: the name of the file and the mode in which the file should be opened. The mode can be 'r' for reading, 'w' for writing, or 'a' for appending.\n",
        "\n",
        "Here's an example of how to open a file for reading:\n",
        "\n",
        "\n",
        "\n",
        "```\n",
        "f = open('myfile.txt', 'r')\n",
        "```\n",
        "\n",
        "By default, the open() function returns a file object that can be used to read from or write to the file, depending on the mode.\n",
        "\n"
      ],
      "metadata": {
        "id": "AJxXBKchHnjP"
      }
    },
    {
      "cell_type": "code",
      "source": [
        "# READING A FILE\n",
        "\n",
        "f = open('myfile.txt', 'r')\n",
        "print(f)\n",
        "text = f.read()\n",
        "print(text)\n",
        "f.close()"
      ],
      "metadata": {
        "id": "XQV-UriiHncv"
      },
      "execution_count": null,
      "outputs": []
    },
    {
      "cell_type": "markdown",
      "source": [
        "## Modes in file\n",
        "There are various modes in which we can open files.\n",
        "\n",
        "1. read (r): This mode opens the file for reading only and gives an error if the file does not exist. This is the default mode if no mode is passed as a parameter.\n",
        "\n",
        "2. write (w): This mode opens the file for writing only and creates a new file if the file does not exist.\n",
        "\n",
        "3. append (a): This mode opens the file for appending only and creates a new file if the file does not exist.\n",
        "\n",
        "4. create (x): This mode creates a file and gives an error if the file already exists.\n",
        "\n",
        "5. text (t): Apart from these modes we also need to specify how the file must be handled. t mode is used to handle text files. t refers to the text mode. There is no difference between r and rt or w and wt since text mode is the default. The default mode is 'r' (open for reading text, synonym of 'rt' ).\n",
        "\n",
        "6. binary (b): used to handle binary files (images, pdfs, etc).\n",
        "\n",
        "## Reading from a File\n",
        "Once we have a file object, we can use various methods to read from the file.\n",
        "\n",
        "The read() method reads the entire contents of the file and returns it as a string."
      ],
      "metadata": {
        "id": "w7wwUjtxHnVK"
      }
    },
    {
      "cell_type": "code",
      "source": [
        "f = open('myfile.txt', 'r')\n",
        "contents = f.read()\n",
        "print(contents)"
      ],
      "metadata": {
        "id": "uk7-QMXwHnOO"
      },
      "execution_count": null,
      "outputs": []
    },
    {
      "cell_type": "markdown",
      "source": [
        "## Closing a File\n",
        "It is important to close a file after you are done with it. This releases the resources used by the file and allows other programs to access it.\n",
        "\n",
        "To close a file, you can use the close() method."
      ],
      "metadata": {
        "id": "MaBh45iZHnGY"
      }
    },
    {
      "cell_type": "code",
      "source": [
        "f = open('myfile.txt', 'r')\n",
        "# ... do something with the file\n",
        "f.close()"
      ],
      "metadata": {
        "id": "HlP7ZWrNHm-d"
      },
      "execution_count": null,
      "outputs": []
    },
    {
      "cell_type": "markdown",
      "source": [
        "## Writing to a File\n",
        "To write to a file, we first need to open it in write mode.\n",
        "\n",
        "```\n",
        "f = open('myfile.txt', 'w')\n",
        "```\n",
        "\n",
        "We can then use the write() method to write to the file.\n",
        "\n",
        "\n",
        "\n",
        "```\n",
        "f = open('myfile.txt', 'w')\n",
        "f.write('Hello, world!')\n",
        "```\n",
        "\n",
        "\n"
      ],
      "metadata": {
        "id": "kugj9oVZHm2d"
      }
    },
    {
      "cell_type": "code",
      "source": [
        "f = open('myfile.txt', 'a')\n",
        "f.write('Hello, world!')\n",
        "f.close()"
      ],
      "metadata": {
        "id": "ZI4N4egKHmvJ"
      },
      "execution_count": null,
      "outputs": []
    },
    {
      "cell_type": "markdown",
      "source": [
        "Keep in mind that writing to a file will overwrite its contents. If you want to append to a file instead of overwriting it, you can open it in append mode."
      ],
      "metadata": {
        "id": "_m9nIbFNHmkx"
      }
    },
    {
      "cell_type": "code",
      "source": [
        "f = open('myfile.txt', 'a')\n",
        "f.write('Hello, world!')"
      ],
      "metadata": {
        "id": "eWNJ1DbxHmdU"
      },
      "execution_count": null,
      "outputs": []
    },
    {
      "cell_type": "markdown",
      "source": [
        "### The 'with' statement\n",
        "Alternatively, you can use the with statement to automatically close the file after you are done with it."
      ],
      "metadata": {
        "id": "o8QJ-rGAHmGd"
      }
    },
    {
      "cell_type": "code",
      "source": [
        "with open('myfile.txt', 'a') as f:\n",
        "  f.write(\"Hey I am inside with\")"
      ],
      "metadata": {
        "id": "qCT6t8DqHl6p"
      },
      "execution_count": null,
      "outputs": []
    },
    {
      "cell_type": "code",
      "source": [
        "with open('myfile.txt', 'r') as f:\n",
        "    # ... do something with the file"
      ],
      "metadata": {
        "id": "I_A-KvQ-Hlp5"
      },
      "execution_count": null,
      "outputs": []
    },
    {
      "cell_type": "markdown",
      "source": [
        "## readlines() method\n",
        "The readline() method reads a single line from the file. If we want to read multiple lines, we can use a loop."
      ],
      "metadata": {
        "id": "W4jC4KhiHlUt"
      }
    },
    {
      "cell_type": "code",
      "source": [
        "f = open('myfile.txt', 'r')\n",
        "while True:\n",
        "    line = f.readline()\n",
        "    if not line:\n",
        "        break\n",
        "    print(line)"
      ],
      "metadata": {
        "id": "irHKYB5gHk9X"
      },
      "execution_count": null,
      "outputs": []
    },
    {
      "cell_type": "markdown",
      "source": [
        "The readlines() method reads all the lines of the file and returns them as a list of strings.\n",
        "\n",
        "## writelines() method\n",
        "The writelines() method in Python writes a sequence of strings to a file. The sequence can be any iterable object, such as a list or a tuple.\n",
        "\n",
        "Here's an example of how to use the writelines() method:"
      ],
      "metadata": {
        "id": "01V_jtk3Hklg"
      }
    },
    {
      "cell_type": "code",
      "source": [
        "f = open('myfile.txt', 'w')\n",
        "lines = ['line 1\\n', 'line 2\\n', 'line 3\\n']\n",
        "f.writelines(lines)\n",
        "f.close()"
      ],
      "metadata": {
        "id": "Dy2ufCVQUesw"
      },
      "execution_count": null,
      "outputs": []
    },
    {
      "cell_type": "markdown",
      "source": [
        "This will write the strings in the lines list to the file myfile.txt. The \\n characters are used to add newline characters to the end of each string.\n",
        "\n",
        "Keep in mind that the writelines() method does not add newline characters between the strings in the sequence. If you want to add newlines between the strings, you can use a loop to write each string separately:"
      ],
      "metadata": {
        "id": "h2x78iILUnBZ"
      }
    },
    {
      "cell_type": "code",
      "source": [
        "f = open('myfile.txt', 'w')\n",
        "lines = ['line 1', 'line 2', 'line 3']\n",
        "for line in lines:\n",
        "    f.write(line + '\\n')\n",
        "f.close()"
      ],
      "metadata": {
        "id": "mR_ELFX8UnK2"
      },
      "execution_count": null,
      "outputs": []
    }
  ]
}