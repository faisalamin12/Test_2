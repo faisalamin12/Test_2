{
 "cells": [
  {
   "cell_type": "markdown",
   "metadata": {
    "colab_type": "text",
    "id": "view-in-github"
   },
   "source": [
    "<a href=\"https://colab.research.google.com/github/faisalamin12/Basic_Statistics_Through_Code/blob/main/Finding_Outliers.ipynb\" target=\"_parent\"><img src=\"https://colab.research.google.com/assets/colab-badge.svg\" alt=\"Open In Colab\"/></a>"
   ]
  },
  {
   "cell_type": "code",
   "execution_count": 1,
   "metadata": {
    "id": "NfrCIRYBXdZq"
   },
   "outputs": [],
   "source": [
    "import numpy as np"
   ]
  },
  {
   "cell_type": "code",
   "execution_count": 2,
   "metadata": {
    "id": "sjrxFSimaONG"
   },
   "outputs": [],
   "source": [
    "import matplotlib.pyplot as plt\n",
    "import statistics\n",
    "import pandas as pd\n",
    "import seaborn as sns\n"
   ]
  },
  {
   "cell_type": "code",
   "execution_count": 3,
   "metadata": {
    "id": "PdcQNdOXaep0"
   },
   "outputs": [],
   "source": [
    "dataset = [12,13,14,16,11,12,12,16,17,20,19,22,102,107,18, 14,15,12,11,14,15,11,18,19,14,45,34,12,15,20,21,12,11,16,14]"
   ]
  },
  {
   "cell_type": "code",
   "execution_count": 6,
   "metadata": {
    "colab": {
     "base_uri": "https://localhost:8080/",
     "height": 339
    },
    "id": "UaC3BNlBeVzH",
    "outputId": "c7726397-0a0b-4873-b9f5-ac27d42416dc"
   },
   "outputs": [
    {
     "data": {
      "text/plain": [
       "(array([29.,  2.,  1.,  1.,  0.,  0.,  0.,  0.,  0.,  2.]),\n",
       " array([ 11. ,  20.6,  30.2,  39.8,  49.4,  59. ,  68.6,  78.2,  87.8,\n",
       "         97.4, 107. ]),\n",
       " <a list of 10 Patch objects>)"
      ]
     },
     "execution_count": 6,
     "metadata": {},
     "output_type": "execute_result"
    },
    {
     "data": {
      "image/png": "[encoded data removed]",
      "text/plain": [
       "<Figure size 432x288 with 1 Axes>"
      ]
     },
     "metadata": {
      "needs_background": "light"
     },
     "output_type": "display_data"
    }
   ],
   "source": [
    "plt.hist(dataset)"
   ]
  },
  {
   "cell_type": "code",
   "execution_count": 7,
   "metadata": {
    "colab": {
     "base_uri": "https://localhost:8080/",
     "height": 412
    },
    "id": "kVXFVTNIebmo",
    "outputId": "4d22383b-65e3-466d-833f-fd607af64f63"
   },
   "outputs": [
    {
     "data": {
      "text/plain": [
       "{'boxes': [<matplotlib.lines.Line2D at 0x7f510f3c5810>],\n",
       " 'caps': [<matplotlib.lines.Line2D at 0x7f510f5ac5d0>,\n",
       "  <matplotlib.lines.Line2D at 0x7f510f3ff910>],\n",
       " 'fliers': [<matplotlib.lines.Line2D at 0x7f510f3955d0>],\n",
       " 'means': [],\n",
       " 'medians': [<matplotlib.lines.Line2D at 0x7f510f395990>],\n",
       " 'whiskers': [<matplotlib.lines.Line2D at 0x7f510f3c5e10>,\n",
       "  <matplotlib.lines.Line2D at 0x7f5110491f50>]}"
      ]
     },
     "execution_count": 7,
     "metadata": {},
     "output_type": "execute_result"
    },
    {
     "data": {
      "image/png": "[encoded data removed]",
      "text/plain": [
       "<Figure size 432x288 with 1 Axes>"
      ]
     },
     "metadata": {
      "needs_background": "light"
     },
     "output_type": "display_data"
    }
   ],
   "source": [
    "plt.boxplot(dataset)"
   ]
  },
  {
   "cell_type": "markdown",
   "metadata": {
    "id": "qu-XJ-bF-Eyj"
   },
   "source": [
    "How to compute IQR"
   ]
  },
  {
   "cell_type": "code",
   "execution_count": 8,
   "metadata": {
    "id": "CRmOVEXU95EA"
   },
   "outputs": [],
   "source": [
    "q3, q1 = np.percentile(dataset,[25,75])"
   ]
  },
  {
   "cell_type": "code",
   "execution_count": 9,
   "metadata": {
    "colab": {
     "base_uri": "https://localhost:8080/"
    },
    "id": "hx0LITXg-YNU",
    "outputId": "939089db-031e-488f-cec6-c819bb197b93"
   },
   "outputs": [
    {
     "name": "stdout",
     "output_type": "stream",
     "text": [
      "12.0 19.0\n"
     ]
    }
   ],
   "source": [
    "print(q3, q1)"
   ]
  },
  {
   "cell_type": "code",
   "execution_count": 10,
   "metadata": {
    "colab": {
     "base_uri": "https://localhost:8080/"
    },
    "id": "NAhFJkqs-azP",
    "outputId": "a22d3019-1fdd-4c28-be52-5f6d099042fd"
   },
   "outputs": [
    {
     "name": "stdout",
     "output_type": "stream",
     "text": [
      "-7.0\n"
     ]
    }
   ],
   "source": [
    "IQR = q3-q1\n",
    "print(IQR)"
   ]
  },
  {
   "cell_type": "markdown",
   "metadata": {
    "id": "-1z5Ik3a-qTW"
   },
   "source": [
    "##Compute Upper fence and Lower Fence"
   ]
  },
  {
   "cell_type": "code",
   "execution_count": 12,
   "metadata": {
    "id": "ZvKU_Lur-iqh"
   },
   "outputs": [],
   "source": [
    "lower_fence = q1-(1.5 *IQR)\n",
    "upper_fence = q3 + (1.5 * IQR)"
   ]
  },
  {
   "cell_type": "code",
   "execution_count": 13,
   "metadata": {
    "colab": {
     "base_uri": "https://localhost:8080/"
    },
    "id": "8ijwzzqn_TDH",
    "outputId": "00b49485-abd1-444e-ca43-b6c80b11ee70"
   },
   "outputs": [
    {
     "name": "stdout",
     "output_type": "stream",
     "text": [
      "29.5 1.5\n"
     ]
    }
   ],
   "source": [
    "print(lower_fence , upper_fence)"
   ]
  }
 ],
 "metadata": {
  "colab": {
   "authorship_tag": "ABX9TyNLPSfLU7jN0wTA3qpaIWoq",
   "include_colab_link": true,
   "name": "Finding Outliers.ipynb",
   "provenance": []
  },
  "kernelspec": {
   "display_name": "Python 3 (ipykernel)",
   "language": "python",
   "name": "python3"
  },
  "language_info": {
   "codemirror_mode": {
    "name": "ipython",
    "version": 3
   },
   "file_extension": ".py",
   "mimetype": "text/x-python",
   "name": "python",
   "nbconvert_exporter": "python",
   "pygments_lexer": "ipython3",
   "version": "3.11.5"
  }
 },
 "nbformat": 4,
 "nbformat_minor": 1
}
